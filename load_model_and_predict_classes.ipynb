{
  "nbformat": 4,
  "nbformat_minor": 0,
  "metadata": {
    "colab": {
      "provenance": []
    },
    "kernelspec": {
      "name": "python3",
      "display_name": "Python 3"
    },
    "language_info": {
      "name": "python"
    },
    "widgets": {
      "application/vnd.jupyter.widget-state+json": {
        "792a8c1553bb4aaaaf116e9da8b3012c": {
          "model_module": "@jupyter-widgets/controls",
          "model_name": "VBoxModel",
          "model_module_version": "1.5.0",
          "state": {
            "_dom_classes": [],
            "_model_module": "@jupyter-widgets/controls",
            "_model_module_version": "1.5.0",
            "_model_name": "VBoxModel",
            "_view_count": null,
            "_view_module": "@jupyter-widgets/controls",
            "_view_module_version": "1.5.0",
            "_view_name": "VBoxView",
            "box_style": "",
            "children": [
              "IPY_MODEL_dcdf047245134f71a11a0f31429661ca",
              "IPY_MODEL_de55f0ea687e4a91b4f4cd30e8ca57eb",
              "IPY_MODEL_88ae520f2afc4f90b400d06e295319fd",
              "IPY_MODEL_09e39be05bea4af3b882c56deed77484",
              "IPY_MODEL_83d9f1a43d654c8e9d331b9122f88bc3"
            ],
            "layout": "IPY_MODEL_f86bf1c4e68e4256b785ec804423ebd5"
          }
        },
        "dcdf047245134f71a11a0f31429661ca": {
          "model_module": "@jupyter-widgets/controls",
          "model_name": "HTMLModel",
          "model_module_version": "1.5.0",
          "state": {
            "_dom_classes": [],
            "_model_module": "@jupyter-widgets/controls",
            "_model_module_version": "1.5.0",
            "_model_name": "HTMLModel",
            "_view_count": null,
            "_view_module": "@jupyter-widgets/controls",
            "_view_module_version": "1.5.0",
            "_view_name": "HTMLView",
            "description": "",
            "description_tooltip": null,
            "layout": "IPY_MODEL_18b7ff32b7f44be3a3c5760473f8c0ea",
            "placeholder": "​",
            "style": "IPY_MODEL_179a556d52284de3be8e4441962f8802",
            "value": "<center> <img\nsrc=https://huggingface.co/front/assets/huggingface_logo-noborder.svg\nalt='Hugging Face'> <br> Copy a token from <a\nhref=\"https://huggingface.co/settings/tokens\" target=\"_blank\">your Hugging Face\ntokens page</a> and paste it below. <br> Immediately click login after copying\nyour token or it might be stored in plain text in this notebook file. </center>"
          }
        },
        "de55f0ea687e4a91b4f4cd30e8ca57eb": {
          "model_module": "@jupyter-widgets/controls",
          "model_name": "PasswordModel",
          "model_module_version": "1.5.0",
          "state": {
            "_dom_classes": [],
            "_model_module": "@jupyter-widgets/controls",
            "_model_module_version": "1.5.0",
            "_model_name": "PasswordModel",
            "_view_count": null,
            "_view_module": "@jupyter-widgets/controls",
            "_view_module_version": "1.5.0",
            "_view_name": "PasswordView",
            "continuous_update": true,
            "description": "Token:",
            "description_tooltip": null,
            "disabled": false,
            "layout": "IPY_MODEL_e991bf104cbb4bf686868a5fa62bf718",
            "placeholder": "​",
            "style": "IPY_MODEL_385af4435b7741238e3699077ecfcc56",
            "value": ""
          }
        },
        "88ae520f2afc4f90b400d06e295319fd": {
          "model_module": "@jupyter-widgets/controls",
          "model_name": "CheckboxModel",
          "model_module_version": "1.5.0",
          "state": {
            "_dom_classes": [],
            "_model_module": "@jupyter-widgets/controls",
            "_model_module_version": "1.5.0",
            "_model_name": "CheckboxModel",
            "_view_count": null,
            "_view_module": "@jupyter-widgets/controls",
            "_view_module_version": "1.5.0",
            "_view_name": "CheckboxView",
            "description": "Add token as git credential?",
            "description_tooltip": null,
            "disabled": false,
            "indent": true,
            "layout": "IPY_MODEL_d6a23c04ec5649db9de504955a5a2087",
            "style": "IPY_MODEL_a0e6dbf9c7db444d8d1176b861560193",
            "value": false
          }
        },
        "09e39be05bea4af3b882c56deed77484": {
          "model_module": "@jupyter-widgets/controls",
          "model_name": "ButtonModel",
          "model_module_version": "1.5.0",
          "state": {
            "_dom_classes": [],
            "_model_module": "@jupyter-widgets/controls",
            "_model_module_version": "1.5.0",
            "_model_name": "ButtonModel",
            "_view_count": null,
            "_view_module": "@jupyter-widgets/controls",
            "_view_module_version": "1.5.0",
            "_view_name": "ButtonView",
            "button_style": "",
            "description": "Login",
            "disabled": false,
            "icon": "",
            "layout": "IPY_MODEL_35761e8814a74d2c930e342bc93df580",
            "style": "IPY_MODEL_6a3058da96bf4fa1abaf795595b64109",
            "tooltip": ""
          }
        },
        "83d9f1a43d654c8e9d331b9122f88bc3": {
          "model_module": "@jupyter-widgets/controls",
          "model_name": "HTMLModel",
          "model_module_version": "1.5.0",
          "state": {
            "_dom_classes": [],
            "_model_module": "@jupyter-widgets/controls",
            "_model_module_version": "1.5.0",
            "_model_name": "HTMLModel",
            "_view_count": null,
            "_view_module": "@jupyter-widgets/controls",
            "_view_module_version": "1.5.0",
            "_view_name": "HTMLView",
            "description": "",
            "description_tooltip": null,
            "layout": "IPY_MODEL_3cdd20e456524d579465e6eb8a31466d",
            "placeholder": "​",
            "style": "IPY_MODEL_b3e7cda8a9724f2ea52af8e3be4416cf",
            "value": "\n<b>Pro Tip:</b> If you don't already have one, you can create a dedicated\n'notebooks' token with 'write' access, that you can then easily reuse for all\nnotebooks. </center>"
          }
        },
        "f86bf1c4e68e4256b785ec804423ebd5": {
          "model_module": "@jupyter-widgets/base",
          "model_name": "LayoutModel",
          "model_module_version": "1.2.0",
          "state": {
            "_model_module": "@jupyter-widgets/base",
            "_model_module_version": "1.2.0",
            "_model_name": "LayoutModel",
            "_view_count": null,
            "_view_module": "@jupyter-widgets/base",
            "_view_module_version": "1.2.0",
            "_view_name": "LayoutView",
            "align_content": null,
            "align_items": "center",
            "align_self": null,
            "border": null,
            "bottom": null,
            "display": "flex",
            "flex": null,
            "flex_flow": "column",
            "grid_area": null,
            "grid_auto_columns": null,
            "grid_auto_flow": null,
            "grid_auto_rows": null,
            "grid_column": null,
            "grid_gap": null,
            "grid_row": null,
            "grid_template_areas": null,
            "grid_template_columns": null,
            "grid_template_rows": null,
            "height": null,
            "justify_content": null,
            "justify_items": null,
            "left": null,
            "margin": null,
            "max_height": null,
            "max_width": null,
            "min_height": null,
            "min_width": null,
            "object_fit": null,
            "object_position": null,
            "order": null,
            "overflow": null,
            "overflow_x": null,
            "overflow_y": null,
            "padding": null,
            "right": null,
            "top": null,
            "visibility": null,
            "width": "50%"
          }
        },
        "18b7ff32b7f44be3a3c5760473f8c0ea": {
          "model_module": "@jupyter-widgets/base",
          "model_name": "LayoutModel",
          "model_module_version": "1.2.0",
          "state": {
            "_model_module": "@jupyter-widgets/base",
            "_model_module_version": "1.2.0",
            "_model_name": "LayoutModel",
            "_view_count": null,
            "_view_module": "@jupyter-widgets/base",
            "_view_module_version": "1.2.0",
            "_view_name": "LayoutView",
            "align_content": null,
            "align_items": null,
            "align_self": null,
            "border": null,
            "bottom": null,
            "display": null,
            "flex": null,
            "flex_flow": null,
            "grid_area": null,
            "grid_auto_columns": null,
            "grid_auto_flow": null,
            "grid_auto_rows": null,
            "grid_column": null,
            "grid_gap": null,
            "grid_row": null,
            "grid_template_areas": null,
            "grid_template_columns": null,
            "grid_template_rows": null,
            "height": null,
            "justify_content": null,
            "justify_items": null,
            "left": null,
            "margin": null,
            "max_height": null,
            "max_width": null,
            "min_height": null,
            "min_width": null,
            "object_fit": null,
            "object_position": null,
            "order": null,
            "overflow": null,
            "overflow_x": null,
            "overflow_y": null,
            "padding": null,
            "right": null,
            "top": null,
            "visibility": null,
            "width": null
          }
        },
        "179a556d52284de3be8e4441962f8802": {
          "model_module": "@jupyter-widgets/controls",
          "model_name": "DescriptionStyleModel",
          "model_module_version": "1.5.0",
          "state": {
            "_model_module": "@jupyter-widgets/controls",
            "_model_module_version": "1.5.0",
            "_model_name": "DescriptionStyleModel",
            "_view_count": null,
            "_view_module": "@jupyter-widgets/base",
            "_view_module_version": "1.2.0",
            "_view_name": "StyleView",
            "description_width": ""
          }
        },
        "e991bf104cbb4bf686868a5fa62bf718": {
          "model_module": "@jupyter-widgets/base",
          "model_name": "LayoutModel",
          "model_module_version": "1.2.0",
          "state": {
            "_model_module": "@jupyter-widgets/base",
            "_model_module_version": "1.2.0",
            "_model_name": "LayoutModel",
            "_view_count": null,
            "_view_module": "@jupyter-widgets/base",
            "_view_module_version": "1.2.0",
            "_view_name": "LayoutView",
            "align_content": null,
            "align_items": null,
            "align_self": null,
            "border": null,
            "bottom": null,
            "display": null,
            "flex": null,
            "flex_flow": null,
            "grid_area": null,
            "grid_auto_columns": null,
            "grid_auto_flow": null,
            "grid_auto_rows": null,
            "grid_column": null,
            "grid_gap": null,
            "grid_row": null,
            "grid_template_areas": null,
            "grid_template_columns": null,
            "grid_template_rows": null,
            "height": null,
            "justify_content": null,
            "justify_items": null,
            "left": null,
            "margin": null,
            "max_height": null,
            "max_width": null,
            "min_height": null,
            "min_width": null,
            "object_fit": null,
            "object_position": null,
            "order": null,
            "overflow": null,
            "overflow_x": null,
            "overflow_y": null,
            "padding": null,
            "right": null,
            "top": null,
            "visibility": null,
            "width": null
          }
        },
        "385af4435b7741238e3699077ecfcc56": {
          "model_module": "@jupyter-widgets/controls",
          "model_name": "DescriptionStyleModel",
          "model_module_version": "1.5.0",
          "state": {
            "_model_module": "@jupyter-widgets/controls",
            "_model_module_version": "1.5.0",
            "_model_name": "DescriptionStyleModel",
            "_view_count": null,
            "_view_module": "@jupyter-widgets/base",
            "_view_module_version": "1.2.0",
            "_view_name": "StyleView",
            "description_width": ""
          }
        },
        "d6a23c04ec5649db9de504955a5a2087": {
          "model_module": "@jupyter-widgets/base",
          "model_name": "LayoutModel",
          "model_module_version": "1.2.0",
          "state": {
            "_model_module": "@jupyter-widgets/base",
            "_model_module_version": "1.2.0",
            "_model_name": "LayoutModel",
            "_view_count": null,
            "_view_module": "@jupyter-widgets/base",
            "_view_module_version": "1.2.0",
            "_view_name": "LayoutView",
            "align_content": null,
            "align_items": null,
            "align_self": null,
            "border": null,
            "bottom": null,
            "display": null,
            "flex": null,
            "flex_flow": null,
            "grid_area": null,
            "grid_auto_columns": null,
            "grid_auto_flow": null,
            "grid_auto_rows": null,
            "grid_column": null,
            "grid_gap": null,
            "grid_row": null,
            "grid_template_areas": null,
            "grid_template_columns": null,
            "grid_template_rows": null,
            "height": null,
            "justify_content": null,
            "justify_items": null,
            "left": null,
            "margin": null,
            "max_height": null,
            "max_width": null,
            "min_height": null,
            "min_width": null,
            "object_fit": null,
            "object_position": null,
            "order": null,
            "overflow": null,
            "overflow_x": null,
            "overflow_y": null,
            "padding": null,
            "right": null,
            "top": null,
            "visibility": null,
            "width": null
          }
        },
        "a0e6dbf9c7db444d8d1176b861560193": {
          "model_module": "@jupyter-widgets/controls",
          "model_name": "DescriptionStyleModel",
          "model_module_version": "1.5.0",
          "state": {
            "_model_module": "@jupyter-widgets/controls",
            "_model_module_version": "1.5.0",
            "_model_name": "DescriptionStyleModel",
            "_view_count": null,
            "_view_module": "@jupyter-widgets/base",
            "_view_module_version": "1.2.0",
            "_view_name": "StyleView",
            "description_width": ""
          }
        },
        "35761e8814a74d2c930e342bc93df580": {
          "model_module": "@jupyter-widgets/base",
          "model_name": "LayoutModel",
          "model_module_version": "1.2.0",
          "state": {
            "_model_module": "@jupyter-widgets/base",
            "_model_module_version": "1.2.0",
            "_model_name": "LayoutModel",
            "_view_count": null,
            "_view_module": "@jupyter-widgets/base",
            "_view_module_version": "1.2.0",
            "_view_name": "LayoutView",
            "align_content": null,
            "align_items": null,
            "align_self": null,
            "border": null,
            "bottom": null,
            "display": null,
            "flex": null,
            "flex_flow": null,
            "grid_area": null,
            "grid_auto_columns": null,
            "grid_auto_flow": null,
            "grid_auto_rows": null,
            "grid_column": null,
            "grid_gap": null,
            "grid_row": null,
            "grid_template_areas": null,
            "grid_template_columns": null,
            "grid_template_rows": null,
            "height": null,
            "justify_content": null,
            "justify_items": null,
            "left": null,
            "margin": null,
            "max_height": null,
            "max_width": null,
            "min_height": null,
            "min_width": null,
            "object_fit": null,
            "object_position": null,
            "order": null,
            "overflow": null,
            "overflow_x": null,
            "overflow_y": null,
            "padding": null,
            "right": null,
            "top": null,
            "visibility": null,
            "width": null
          }
        },
        "6a3058da96bf4fa1abaf795595b64109": {
          "model_module": "@jupyter-widgets/controls",
          "model_name": "ButtonStyleModel",
          "model_module_version": "1.5.0",
          "state": {
            "_model_module": "@jupyter-widgets/controls",
            "_model_module_version": "1.5.0",
            "_model_name": "ButtonStyleModel",
            "_view_count": null,
            "_view_module": "@jupyter-widgets/base",
            "_view_module_version": "1.2.0",
            "_view_name": "StyleView",
            "button_color": null,
            "font_weight": ""
          }
        },
        "3cdd20e456524d579465e6eb8a31466d": {
          "model_module": "@jupyter-widgets/base",
          "model_name": "LayoutModel",
          "model_module_version": "1.2.0",
          "state": {
            "_model_module": "@jupyter-widgets/base",
            "_model_module_version": "1.2.0",
            "_model_name": "LayoutModel",
            "_view_count": null,
            "_view_module": "@jupyter-widgets/base",
            "_view_module_version": "1.2.0",
            "_view_name": "LayoutView",
            "align_content": null,
            "align_items": null,
            "align_self": null,
            "border": null,
            "bottom": null,
            "display": null,
            "flex": null,
            "flex_flow": null,
            "grid_area": null,
            "grid_auto_columns": null,
            "grid_auto_flow": null,
            "grid_auto_rows": null,
            "grid_column": null,
            "grid_gap": null,
            "grid_row": null,
            "grid_template_areas": null,
            "grid_template_columns": null,
            "grid_template_rows": null,
            "height": null,
            "justify_content": null,
            "justify_items": null,
            "left": null,
            "margin": null,
            "max_height": null,
            "max_width": null,
            "min_height": null,
            "min_width": null,
            "object_fit": null,
            "object_position": null,
            "order": null,
            "overflow": null,
            "overflow_x": null,
            "overflow_y": null,
            "padding": null,
            "right": null,
            "top": null,
            "visibility": null,
            "width": null
          }
        },
        "b3e7cda8a9724f2ea52af8e3be4416cf": {
          "model_module": "@jupyter-widgets/controls",
          "model_name": "DescriptionStyleModel",
          "model_module_version": "1.5.0",
          "state": {
            "_model_module": "@jupyter-widgets/controls",
            "_model_module_version": "1.5.0",
            "_model_name": "DescriptionStyleModel",
            "_view_count": null,
            "_view_module": "@jupyter-widgets/base",
            "_view_module_version": "1.2.0",
            "_view_name": "StyleView",
            "description_width": ""
          }
        },
        "ae3d88c034174614a1ff1f2a7d4d0504": {
          "model_module": "@jupyter-widgets/controls",
          "model_name": "HBoxModel",
          "model_module_version": "1.5.0",
          "state": {
            "_dom_classes": [],
            "_model_module": "@jupyter-widgets/controls",
            "_model_module_version": "1.5.0",
            "_model_name": "HBoxModel",
            "_view_count": null,
            "_view_module": "@jupyter-widgets/controls",
            "_view_module_version": "1.5.0",
            "_view_name": "HBoxView",
            "box_style": "",
            "children": [
              "IPY_MODEL_f64df5f2daac420ca52ed9b75bbb217d",
              "IPY_MODEL_f32f46b87270407f9491b699e86d1849",
              "IPY_MODEL_801a7107ed694d5ca17f2fefaa28c562"
            ],
            "layout": "IPY_MODEL_934d3579bfc24360b8e1e847a4cde9e9"
          }
        },
        "f64df5f2daac420ca52ed9b75bbb217d": {
          "model_module": "@jupyter-widgets/controls",
          "model_name": "HTMLModel",
          "model_module_version": "1.5.0",
          "state": {
            "_dom_classes": [],
            "_model_module": "@jupyter-widgets/controls",
            "_model_module_version": "1.5.0",
            "_model_name": "HTMLModel",
            "_view_count": null,
            "_view_module": "@jupyter-widgets/controls",
            "_view_module_version": "1.5.0",
            "_view_name": "HTMLView",
            "description": "",
            "description_tooltip": null,
            "layout": "IPY_MODEL_00467cce76b54926bcdd4ae1e35fbfb1",
            "placeholder": "​",
            "style": "IPY_MODEL_543eee119e534190941df68c19d96b6e",
            "value": "Download file xception_v4_1_07_0.699.h5: 100%"
          }
        },
        "f32f46b87270407f9491b699e86d1849": {
          "model_module": "@jupyter-widgets/controls",
          "model_name": "FloatProgressModel",
          "model_module_version": "1.5.0",
          "state": {
            "_dom_classes": [],
            "_model_module": "@jupyter-widgets/controls",
            "_model_module_version": "1.5.0",
            "_model_name": "FloatProgressModel",
            "_view_count": null,
            "_view_module": "@jupyter-widgets/controls",
            "_view_module_version": "1.5.0",
            "_view_name": "ProgressView",
            "bar_style": "success",
            "description": "",
            "description_tooltip": null,
            "layout": "IPY_MODEL_3773a2f2d41e459d8dd5494b37fece77",
            "max": 83889160,
            "min": 0,
            "orientation": "horizontal",
            "style": "IPY_MODEL_9b482048b0e74ad7b258cc0e49871209",
            "value": 83889160
          }
        },
        "801a7107ed694d5ca17f2fefaa28c562": {
          "model_module": "@jupyter-widgets/controls",
          "model_name": "HTMLModel",
          "model_module_version": "1.5.0",
          "state": {
            "_dom_classes": [],
            "_model_module": "@jupyter-widgets/controls",
            "_model_module_version": "1.5.0",
            "_model_name": "HTMLModel",
            "_view_count": null,
            "_view_module": "@jupyter-widgets/controls",
            "_view_module_version": "1.5.0",
            "_view_name": "HTMLView",
            "description": "",
            "description_tooltip": null,
            "layout": "IPY_MODEL_084818a6b41f4727a204e5c540f738d4",
            "placeholder": "​",
            "style": "IPY_MODEL_0278335f8392412b8c01cb9932467704",
            "value": " 80.0M/80.0M [00:31&lt;00:00, 971kB/s]"
          }
        },
        "934d3579bfc24360b8e1e847a4cde9e9": {
          "model_module": "@jupyter-widgets/base",
          "model_name": "LayoutModel",
          "model_module_version": "1.2.0",
          "state": {
            "_model_module": "@jupyter-widgets/base",
            "_model_module_version": "1.2.0",
            "_model_name": "LayoutModel",
            "_view_count": null,
            "_view_module": "@jupyter-widgets/base",
            "_view_module_version": "1.2.0",
            "_view_name": "LayoutView",
            "align_content": null,
            "align_items": null,
            "align_self": null,
            "border": null,
            "bottom": null,
            "display": null,
            "flex": null,
            "flex_flow": null,
            "grid_area": null,
            "grid_auto_columns": null,
            "grid_auto_flow": null,
            "grid_auto_rows": null,
            "grid_column": null,
            "grid_gap": null,
            "grid_row": null,
            "grid_template_areas": null,
            "grid_template_columns": null,
            "grid_template_rows": null,
            "height": null,
            "justify_content": null,
            "justify_items": null,
            "left": null,
            "margin": null,
            "max_height": null,
            "max_width": null,
            "min_height": null,
            "min_width": null,
            "object_fit": null,
            "object_position": null,
            "order": null,
            "overflow": null,
            "overflow_x": null,
            "overflow_y": null,
            "padding": null,
            "right": null,
            "top": null,
            "visibility": null,
            "width": null
          }
        },
        "00467cce76b54926bcdd4ae1e35fbfb1": {
          "model_module": "@jupyter-widgets/base",
          "model_name": "LayoutModel",
          "model_module_version": "1.2.0",
          "state": {
            "_model_module": "@jupyter-widgets/base",
            "_model_module_version": "1.2.0",
            "_model_name": "LayoutModel",
            "_view_count": null,
            "_view_module": "@jupyter-widgets/base",
            "_view_module_version": "1.2.0",
            "_view_name": "LayoutView",
            "align_content": null,
            "align_items": null,
            "align_self": null,
            "border": null,
            "bottom": null,
            "display": null,
            "flex": null,
            "flex_flow": null,
            "grid_area": null,
            "grid_auto_columns": null,
            "grid_auto_flow": null,
            "grid_auto_rows": null,
            "grid_column": null,
            "grid_gap": null,
            "grid_row": null,
            "grid_template_areas": null,
            "grid_template_columns": null,
            "grid_template_rows": null,
            "height": null,
            "justify_content": null,
            "justify_items": null,
            "left": null,
            "margin": null,
            "max_height": null,
            "max_width": null,
            "min_height": null,
            "min_width": null,
            "object_fit": null,
            "object_position": null,
            "order": null,
            "overflow": null,
            "overflow_x": null,
            "overflow_y": null,
            "padding": null,
            "right": null,
            "top": null,
            "visibility": null,
            "width": null
          }
        },
        "543eee119e534190941df68c19d96b6e": {
          "model_module": "@jupyter-widgets/controls",
          "model_name": "DescriptionStyleModel",
          "model_module_version": "1.5.0",
          "state": {
            "_model_module": "@jupyter-widgets/controls",
            "_model_module_version": "1.5.0",
            "_model_name": "DescriptionStyleModel",
            "_view_count": null,
            "_view_module": "@jupyter-widgets/base",
            "_view_module_version": "1.2.0",
            "_view_name": "StyleView",
            "description_width": ""
          }
        },
        "3773a2f2d41e459d8dd5494b37fece77": {
          "model_module": "@jupyter-widgets/base",
          "model_name": "LayoutModel",
          "model_module_version": "1.2.0",
          "state": {
            "_model_module": "@jupyter-widgets/base",
            "_model_module_version": "1.2.0",
            "_model_name": "LayoutModel",
            "_view_count": null,
            "_view_module": "@jupyter-widgets/base",
            "_view_module_version": "1.2.0",
            "_view_name": "LayoutView",
            "align_content": null,
            "align_items": null,
            "align_self": null,
            "border": null,
            "bottom": null,
            "display": null,
            "flex": null,
            "flex_flow": null,
            "grid_area": null,
            "grid_auto_columns": null,
            "grid_auto_flow": null,
            "grid_auto_rows": null,
            "grid_column": null,
            "grid_gap": null,
            "grid_row": null,
            "grid_template_areas": null,
            "grid_template_columns": null,
            "grid_template_rows": null,
            "height": null,
            "justify_content": null,
            "justify_items": null,
            "left": null,
            "margin": null,
            "max_height": null,
            "max_width": null,
            "min_height": null,
            "min_width": null,
            "object_fit": null,
            "object_position": null,
            "order": null,
            "overflow": null,
            "overflow_x": null,
            "overflow_y": null,
            "padding": null,
            "right": null,
            "top": null,
            "visibility": null,
            "width": null
          }
        },
        "9b482048b0e74ad7b258cc0e49871209": {
          "model_module": "@jupyter-widgets/controls",
          "model_name": "ProgressStyleModel",
          "model_module_version": "1.5.0",
          "state": {
            "_model_module": "@jupyter-widgets/controls",
            "_model_module_version": "1.5.0",
            "_model_name": "ProgressStyleModel",
            "_view_count": null,
            "_view_module": "@jupyter-widgets/base",
            "_view_module_version": "1.2.0",
            "_view_name": "StyleView",
            "bar_color": null,
            "description_width": ""
          }
        },
        "084818a6b41f4727a204e5c540f738d4": {
          "model_module": "@jupyter-widgets/base",
          "model_name": "LayoutModel",
          "model_module_version": "1.2.0",
          "state": {
            "_model_module": "@jupyter-widgets/base",
            "_model_module_version": "1.2.0",
            "_model_name": "LayoutModel",
            "_view_count": null,
            "_view_module": "@jupyter-widgets/base",
            "_view_module_version": "1.2.0",
            "_view_name": "LayoutView",
            "align_content": null,
            "align_items": null,
            "align_self": null,
            "border": null,
            "bottom": null,
            "display": null,
            "flex": null,
            "flex_flow": null,
            "grid_area": null,
            "grid_auto_columns": null,
            "grid_auto_flow": null,
            "grid_auto_rows": null,
            "grid_column": null,
            "grid_gap": null,
            "grid_row": null,
            "grid_template_areas": null,
            "grid_template_columns": null,
            "grid_template_rows": null,
            "height": null,
            "justify_content": null,
            "justify_items": null,
            "left": null,
            "margin": null,
            "max_height": null,
            "max_width": null,
            "min_height": null,
            "min_width": null,
            "object_fit": null,
            "object_position": null,
            "order": null,
            "overflow": null,
            "overflow_x": null,
            "overflow_y": null,
            "padding": null,
            "right": null,
            "top": null,
            "visibility": null,
            "width": null
          }
        },
        "0278335f8392412b8c01cb9932467704": {
          "model_module": "@jupyter-widgets/controls",
          "model_name": "DescriptionStyleModel",
          "model_module_version": "1.5.0",
          "state": {
            "_model_module": "@jupyter-widgets/controls",
            "_model_module_version": "1.5.0",
            "_model_name": "DescriptionStyleModel",
            "_view_count": null,
            "_view_module": "@jupyter-widgets/base",
            "_view_module_version": "1.2.0",
            "_view_name": "StyleView",
            "description_width": ""
          }
        },
        "d5aaaf7039bc4d1dab94215c7880000a": {
          "model_module": "@jupyter-widgets/controls",
          "model_name": "HBoxModel",
          "model_module_version": "1.5.0",
          "state": {
            "_dom_classes": [],
            "_model_module": "@jupyter-widgets/controls",
            "_model_module_version": "1.5.0",
            "_model_name": "HBoxModel",
            "_view_count": null,
            "_view_module": "@jupyter-widgets/controls",
            "_view_module_version": "1.5.0",
            "_view_name": "HBoxView",
            "box_style": "",
            "children": [
              "IPY_MODEL_35a3438c5f834b46be2a9409ff7d8ad8",
              "IPY_MODEL_03e3a24d39d647c4a2fc8c0101187166",
              "IPY_MODEL_82e9336560644a1987707f221ae88cfa"
            ],
            "layout": "IPY_MODEL_3dc8051a7db04ff1bae4b1d2c42cbb21"
          }
        },
        "35a3438c5f834b46be2a9409ff7d8ad8": {
          "model_module": "@jupyter-widgets/controls",
          "model_name": "HTMLModel",
          "model_module_version": "1.5.0",
          "state": {
            "_dom_classes": [],
            "_model_module": "@jupyter-widgets/controls",
            "_model_module_version": "1.5.0",
            "_model_name": "HTMLModel",
            "_view_count": null,
            "_view_module": "@jupyter-widgets/controls",
            "_view_module_version": "1.5.0",
            "_view_name": "HTMLView",
            "description": "",
            "description_tooltip": null,
            "layout": "IPY_MODEL_e0da4962b6d347038c8f035d342a4e0e",
            "placeholder": "​",
            "style": "IPY_MODEL_61301fa0d9c44db39b724d820abe170a",
            "value": "Clean file xception_v4_1_07_0.699.h5: 100%"
          }
        },
        "03e3a24d39d647c4a2fc8c0101187166": {
          "model_module": "@jupyter-widgets/controls",
          "model_name": "FloatProgressModel",
          "model_module_version": "1.5.0",
          "state": {
            "_dom_classes": [],
            "_model_module": "@jupyter-widgets/controls",
            "_model_module_version": "1.5.0",
            "_model_name": "FloatProgressModel",
            "_view_count": null,
            "_view_module": "@jupyter-widgets/controls",
            "_view_module_version": "1.5.0",
            "_view_name": "ProgressView",
            "bar_style": "success",
            "description": "",
            "description_tooltip": null,
            "layout": "IPY_MODEL_2f630023ad6c4ba79aa60fbf76efe75f",
            "max": 83889160,
            "min": 0,
            "orientation": "horizontal",
            "style": "IPY_MODEL_2fad866223de4d0d831d0e816b2508c2",
            "value": 83889160
          }
        },
        "82e9336560644a1987707f221ae88cfa": {
          "model_module": "@jupyter-widgets/controls",
          "model_name": "HTMLModel",
          "model_module_version": "1.5.0",
          "state": {
            "_dom_classes": [],
            "_model_module": "@jupyter-widgets/controls",
            "_model_module_version": "1.5.0",
            "_model_name": "HTMLModel",
            "_view_count": null,
            "_view_module": "@jupyter-widgets/controls",
            "_view_module_version": "1.5.0",
            "_view_name": "HTMLView",
            "description": "",
            "description_tooltip": null,
            "layout": "IPY_MODEL_ad8c83f36534471ca521dc035fdd19e6",
            "placeholder": "​",
            "style": "IPY_MODEL_1affea0a0d9144e28d7ed18a841adcb6",
            "value": " 80.0M/80.0M [00:10&lt;00:00, 10.1MB/s]"
          }
        },
        "3dc8051a7db04ff1bae4b1d2c42cbb21": {
          "model_module": "@jupyter-widgets/base",
          "model_name": "LayoutModel",
          "model_module_version": "1.2.0",
          "state": {
            "_model_module": "@jupyter-widgets/base",
            "_model_module_version": "1.2.0",
            "_model_name": "LayoutModel",
            "_view_count": null,
            "_view_module": "@jupyter-widgets/base",
            "_view_module_version": "1.2.0",
            "_view_name": "LayoutView",
            "align_content": null,
            "align_items": null,
            "align_self": null,
            "border": null,
            "bottom": null,
            "display": null,
            "flex": null,
            "flex_flow": null,
            "grid_area": null,
            "grid_auto_columns": null,
            "grid_auto_flow": null,
            "grid_auto_rows": null,
            "grid_column": null,
            "grid_gap": null,
            "grid_row": null,
            "grid_template_areas": null,
            "grid_template_columns": null,
            "grid_template_rows": null,
            "height": null,
            "justify_content": null,
            "justify_items": null,
            "left": null,
            "margin": null,
            "max_height": null,
            "max_width": null,
            "min_height": null,
            "min_width": null,
            "object_fit": null,
            "object_position": null,
            "order": null,
            "overflow": null,
            "overflow_x": null,
            "overflow_y": null,
            "padding": null,
            "right": null,
            "top": null,
            "visibility": null,
            "width": null
          }
        },
        "e0da4962b6d347038c8f035d342a4e0e": {
          "model_module": "@jupyter-widgets/base",
          "model_name": "LayoutModel",
          "model_module_version": "1.2.0",
          "state": {
            "_model_module": "@jupyter-widgets/base",
            "_model_module_version": "1.2.0",
            "_model_name": "LayoutModel",
            "_view_count": null,
            "_view_module": "@jupyter-widgets/base",
            "_view_module_version": "1.2.0",
            "_view_name": "LayoutView",
            "align_content": null,
            "align_items": null,
            "align_self": null,
            "border": null,
            "bottom": null,
            "display": null,
            "flex": null,
            "flex_flow": null,
            "grid_area": null,
            "grid_auto_columns": null,
            "grid_auto_flow": null,
            "grid_auto_rows": null,
            "grid_column": null,
            "grid_gap": null,
            "grid_row": null,
            "grid_template_areas": null,
            "grid_template_columns": null,
            "grid_template_rows": null,
            "height": null,
            "justify_content": null,
            "justify_items": null,
            "left": null,
            "margin": null,
            "max_height": null,
            "max_width": null,
            "min_height": null,
            "min_width": null,
            "object_fit": null,
            "object_position": null,
            "order": null,
            "overflow": null,
            "overflow_x": null,
            "overflow_y": null,
            "padding": null,
            "right": null,
            "top": null,
            "visibility": null,
            "width": null
          }
        },
        "61301fa0d9c44db39b724d820abe170a": {
          "model_module": "@jupyter-widgets/controls",
          "model_name": "DescriptionStyleModel",
          "model_module_version": "1.5.0",
          "state": {
            "_model_module": "@jupyter-widgets/controls",
            "_model_module_version": "1.5.0",
            "_model_name": "DescriptionStyleModel",
            "_view_count": null,
            "_view_module": "@jupyter-widgets/base",
            "_view_module_version": "1.2.0",
            "_view_name": "StyleView",
            "description_width": ""
          }
        },
        "2f630023ad6c4ba79aa60fbf76efe75f": {
          "model_module": "@jupyter-widgets/base",
          "model_name": "LayoutModel",
          "model_module_version": "1.2.0",
          "state": {
            "_model_module": "@jupyter-widgets/base",
            "_model_module_version": "1.2.0",
            "_model_name": "LayoutModel",
            "_view_count": null,
            "_view_module": "@jupyter-widgets/base",
            "_view_module_version": "1.2.0",
            "_view_name": "LayoutView",
            "align_content": null,
            "align_items": null,
            "align_self": null,
            "border": null,
            "bottom": null,
            "display": null,
            "flex": null,
            "flex_flow": null,
            "grid_area": null,
            "grid_auto_columns": null,
            "grid_auto_flow": null,
            "grid_auto_rows": null,
            "grid_column": null,
            "grid_gap": null,
            "grid_row": null,
            "grid_template_areas": null,
            "grid_template_columns": null,
            "grid_template_rows": null,
            "height": null,
            "justify_content": null,
            "justify_items": null,
            "left": null,
            "margin": null,
            "max_height": null,
            "max_width": null,
            "min_height": null,
            "min_width": null,
            "object_fit": null,
            "object_position": null,
            "order": null,
            "overflow": null,
            "overflow_x": null,
            "overflow_y": null,
            "padding": null,
            "right": null,
            "top": null,
            "visibility": null,
            "width": null
          }
        },
        "2fad866223de4d0d831d0e816b2508c2": {
          "model_module": "@jupyter-widgets/controls",
          "model_name": "ProgressStyleModel",
          "model_module_version": "1.5.0",
          "state": {
            "_model_module": "@jupyter-widgets/controls",
            "_model_module_version": "1.5.0",
            "_model_name": "ProgressStyleModel",
            "_view_count": null,
            "_view_module": "@jupyter-widgets/base",
            "_view_module_version": "1.2.0",
            "_view_name": "StyleView",
            "bar_color": null,
            "description_width": ""
          }
        },
        "ad8c83f36534471ca521dc035fdd19e6": {
          "model_module": "@jupyter-widgets/base",
          "model_name": "LayoutModel",
          "model_module_version": "1.2.0",
          "state": {
            "_model_module": "@jupyter-widgets/base",
            "_model_module_version": "1.2.0",
            "_model_name": "LayoutModel",
            "_view_count": null,
            "_view_module": "@jupyter-widgets/base",
            "_view_module_version": "1.2.0",
            "_view_name": "LayoutView",
            "align_content": null,
            "align_items": null,
            "align_self": null,
            "border": null,
            "bottom": null,
            "display": null,
            "flex": null,
            "flex_flow": null,
            "grid_area": null,
            "grid_auto_columns": null,
            "grid_auto_flow": null,
            "grid_auto_rows": null,
            "grid_column": null,
            "grid_gap": null,
            "grid_row": null,
            "grid_template_areas": null,
            "grid_template_columns": null,
            "grid_template_rows": null,
            "height": null,
            "justify_content": null,
            "justify_items": null,
            "left": null,
            "margin": null,
            "max_height": null,
            "max_width": null,
            "min_height": null,
            "min_width": null,
            "object_fit": null,
            "object_position": null,
            "order": null,
            "overflow": null,
            "overflow_x": null,
            "overflow_y": null,
            "padding": null,
            "right": null,
            "top": null,
            "visibility": null,
            "width": null
          }
        },
        "1affea0a0d9144e28d7ed18a841adcb6": {
          "model_module": "@jupyter-widgets/controls",
          "model_name": "DescriptionStyleModel",
          "model_module_version": "1.5.0",
          "state": {
            "_model_module": "@jupyter-widgets/controls",
            "_model_module_version": "1.5.0",
            "_model_name": "DescriptionStyleModel",
            "_view_count": null,
            "_view_module": "@jupyter-widgets/base",
            "_view_module_version": "1.2.0",
            "_view_name": "StyleView",
            "description_width": ""
          }
        }
      }
    }
  },
  "cells": [
    {
      "cell_type": "markdown",
      "source": [
        "https://github.com/alexeygrigorev/mlbookcamp-code/blob/master/course-zoomcamp/08-deep-learning/notebook.ipynb\n",
        "\n",
        "The model was trained as described in this kaggle notebook: https://www.kaggle.com/bnzn261029/capstone1-ham10k-skincancer\n",
        "\n",
        "***Disclaimer: This work is part of an educational project. It is not intended for clinical application. As such it can not make real world predictions for skin lesions. To get recommendations regarding skin lesions one should ask for expert advice such as provided by a dermatologist.***"
      ],
      "metadata": {
        "id": "Ku2xGqr2Dxtm"
      }
    },
    {
      "cell_type": "code",
      "execution_count": 1,
      "metadata": {
        "colab": {
          "base_uri": "https://localhost:8080/"
        },
        "id": "7ygsMrlp8uBT",
        "outputId": "e32dfca0-6e0a-447c-bfbd-ac72e90468f0"
      },
      "outputs": [
        {
          "output_type": "stream",
          "name": "stdout",
          "text": [
            "Looking in indexes: https://pypi.org/simple, https://us-python.pkg.dev/colab-wheels/public/simple/\n",
            "Collecting huggingface_hub\n",
            "  Downloading huggingface_hub-0.11.0-py3-none-any.whl (182 kB)\n",
            "\u001b[K     |████████████████████████████████| 182 kB 27.1 MB/s \n",
            "\u001b[?25hRequirement already satisfied: requests in /usr/local/lib/python3.7/dist-packages (from huggingface_hub) (2.23.0)\n",
            "Requirement already satisfied: typing-extensions>=3.7.4.3 in /usr/local/lib/python3.7/dist-packages (from huggingface_hub) (4.1.1)\n",
            "Requirement already satisfied: filelock in /usr/local/lib/python3.7/dist-packages (from huggingface_hub) (3.8.0)\n",
            "Requirement already satisfied: tqdm in /usr/local/lib/python3.7/dist-packages (from huggingface_hub) (4.64.1)\n",
            "Requirement already satisfied: packaging>=20.9 in /usr/local/lib/python3.7/dist-packages (from huggingface_hub) (21.3)\n",
            "Requirement already satisfied: pyyaml>=5.1 in /usr/local/lib/python3.7/dist-packages (from huggingface_hub) (6.0)\n",
            "Requirement already satisfied: importlib-metadata in /usr/local/lib/python3.7/dist-packages (from huggingface_hub) (4.13.0)\n",
            "Requirement already satisfied: pyparsing!=3.0.5,>=2.0.2 in /usr/local/lib/python3.7/dist-packages (from packaging>=20.9->huggingface_hub) (3.0.9)\n",
            "Requirement already satisfied: zipp>=0.5 in /usr/local/lib/python3.7/dist-packages (from importlib-metadata->huggingface_hub) (3.10.0)\n",
            "Requirement already satisfied: chardet<4,>=3.0.2 in /usr/local/lib/python3.7/dist-packages (from requests->huggingface_hub) (3.0.4)\n",
            "Requirement already satisfied: urllib3!=1.25.0,!=1.25.1,<1.26,>=1.21.1 in /usr/local/lib/python3.7/dist-packages (from requests->huggingface_hub) (1.24.3)\n",
            "Requirement already satisfied: idna<3,>=2.5 in /usr/local/lib/python3.7/dist-packages (from requests->huggingface_hub) (2.10)\n",
            "Requirement already satisfied: certifi>=2017.4.17 in /usr/local/lib/python3.7/dist-packages (from requests->huggingface_hub) (2022.9.24)\n",
            "Installing collected packages: huggingface-hub\n",
            "Successfully installed huggingface-hub-0.11.0\n"
          ]
        }
      ],
      "source": [
        "! pip install huggingface_hub"
      ]
    },
    {
      "cell_type": "code",
      "source": [
        "from huggingface_hub import login\n",
        "login()"
      ],
      "metadata": {
        "colab": {
          "base_uri": "https://localhost:8080/",
          "height": 330,
          "referenced_widgets": [
            "792a8c1553bb4aaaaf116e9da8b3012c",
            "dcdf047245134f71a11a0f31429661ca",
            "de55f0ea687e4a91b4f4cd30e8ca57eb",
            "88ae520f2afc4f90b400d06e295319fd",
            "09e39be05bea4af3b882c56deed77484",
            "83d9f1a43d654c8e9d331b9122f88bc3",
            "f86bf1c4e68e4256b785ec804423ebd5",
            "18b7ff32b7f44be3a3c5760473f8c0ea",
            "179a556d52284de3be8e4441962f8802",
            "e991bf104cbb4bf686868a5fa62bf718",
            "385af4435b7741238e3699077ecfcc56",
            "d6a23c04ec5649db9de504955a5a2087",
            "a0e6dbf9c7db444d8d1176b861560193",
            "35761e8814a74d2c930e342bc93df580",
            "6a3058da96bf4fa1abaf795595b64109",
            "3cdd20e456524d579465e6eb8a31466d",
            "b3e7cda8a9724f2ea52af8e3be4416cf"
          ]
        },
        "id": "WL6uYGK28xqx",
        "outputId": "9515d926-b9f8-4e8d-9db4-4b3ebbaa989a"
      },
      "execution_count": 2,
      "outputs": [
        {
          "output_type": "stream",
          "name": "stdout",
          "text": [
            "Token is valid.\n",
            "Your token has been saved to /root/.huggingface/token\n",
            "Login successful\n"
          ]
        }
      ]
    },
    {
      "cell_type": "code",
      "source": [
        "! pip install transformers"
      ],
      "metadata": {
        "colab": {
          "base_uri": "https://localhost:8080/"
        },
        "id": "yrPek9FT8_-U",
        "outputId": "6e1272f7-4e38-4496-8e81-14d1bf099407"
      },
      "execution_count": 3,
      "outputs": [
        {
          "output_type": "stream",
          "name": "stdout",
          "text": [
            "Looking in indexes: https://pypi.org/simple, https://us-python.pkg.dev/colab-wheels/public/simple/\n",
            "Collecting transformers\n",
            "  Downloading transformers-4.24.0-py3-none-any.whl (5.5 MB)\n",
            "\u001b[K     |████████████████████████████████| 5.5 MB 20.3 MB/s \n",
            "\u001b[?25hRequirement already satisfied: tqdm>=4.27 in /usr/local/lib/python3.7/dist-packages (from transformers) (4.64.1)\n",
            "Requirement already satisfied: pyyaml>=5.1 in /usr/local/lib/python3.7/dist-packages (from transformers) (6.0)\n",
            "Requirement already satisfied: filelock in /usr/local/lib/python3.7/dist-packages (from transformers) (3.8.0)\n",
            "Requirement already satisfied: huggingface-hub<1.0,>=0.10.0 in /usr/local/lib/python3.7/dist-packages (from transformers) (0.11.0)\n",
            "Collecting tokenizers!=0.11.3,<0.14,>=0.11.1\n",
            "  Downloading tokenizers-0.13.2-cp37-cp37m-manylinux_2_17_x86_64.manylinux2014_x86_64.whl (7.6 MB)\n",
            "\u001b[K     |████████████████████████████████| 7.6 MB 50.4 MB/s \n",
            "\u001b[?25hRequirement already satisfied: importlib-metadata in /usr/local/lib/python3.7/dist-packages (from transformers) (4.13.0)\n",
            "Requirement already satisfied: numpy>=1.17 in /usr/local/lib/python3.7/dist-packages (from transformers) (1.21.6)\n",
            "Requirement already satisfied: regex!=2019.12.17 in /usr/local/lib/python3.7/dist-packages (from transformers) (2022.6.2)\n",
            "Requirement already satisfied: requests in /usr/local/lib/python3.7/dist-packages (from transformers) (2.23.0)\n",
            "Requirement already satisfied: packaging>=20.0 in /usr/local/lib/python3.7/dist-packages (from transformers) (21.3)\n",
            "Requirement already satisfied: typing-extensions>=3.7.4.3 in /usr/local/lib/python3.7/dist-packages (from huggingface-hub<1.0,>=0.10.0->transformers) (4.1.1)\n",
            "Requirement already satisfied: pyparsing!=3.0.5,>=2.0.2 in /usr/local/lib/python3.7/dist-packages (from packaging>=20.0->transformers) (3.0.9)\n",
            "Requirement already satisfied: zipp>=0.5 in /usr/local/lib/python3.7/dist-packages (from importlib-metadata->transformers) (3.10.0)\n",
            "Requirement already satisfied: chardet<4,>=3.0.2 in /usr/local/lib/python3.7/dist-packages (from requests->transformers) (3.0.4)\n",
            "Requirement already satisfied: idna<3,>=2.5 in /usr/local/lib/python3.7/dist-packages (from requests->transformers) (2.10)\n",
            "Requirement already satisfied: urllib3!=1.25.0,!=1.25.1,<1.26,>=1.21.1 in /usr/local/lib/python3.7/dist-packages (from requests->transformers) (1.24.3)\n",
            "Requirement already satisfied: certifi>=2017.4.17 in /usr/local/lib/python3.7/dist-packages (from requests->transformers) (2022.9.24)\n",
            "Installing collected packages: tokenizers, transformers\n",
            "Successfully installed tokenizers-0.13.2 transformers-4.24.0\n"
          ]
        }
      ]
    },
    {
      "cell_type": "code",
      "source": [
        "from transformers import ImageClassificationPipeline\n",
        "from transformers import TFAutoModel\n",
        "from transformers import TFPreTrainedModel"
      ],
      "metadata": {
        "id": "4WvypD2x9FSI"
      },
      "execution_count": 9,
      "outputs": []
    },
    {
      "cell_type": "code",
      "source": [
        "import huggingface_hub"
      ],
      "metadata": {
        "id": "T5zSNFJu-8yG"
      },
      "execution_count": 17,
      "outputs": []
    },
    {
      "cell_type": "code",
      "source": [
        "from huggingface_hub import Repository\n",
        "repo = Repository(local_dir=\"repo\", clone_from=\"bsenst/skin-cancer-HAM10k\")"
      ],
      "metadata": {
        "colab": {
          "base_uri": "https://localhost:8080/",
          "height": 118,
          "referenced_widgets": [
            "ae3d88c034174614a1ff1f2a7d4d0504",
            "f64df5f2daac420ca52ed9b75bbb217d",
            "f32f46b87270407f9491b699e86d1849",
            "801a7107ed694d5ca17f2fefaa28c562",
            "934d3579bfc24360b8e1e847a4cde9e9",
            "00467cce76b54926bcdd4ae1e35fbfb1",
            "543eee119e534190941df68c19d96b6e",
            "3773a2f2d41e459d8dd5494b37fece77",
            "9b482048b0e74ad7b258cc0e49871209",
            "084818a6b41f4727a204e5c540f738d4",
            "0278335f8392412b8c01cb9932467704",
            "d5aaaf7039bc4d1dab94215c7880000a",
            "35a3438c5f834b46be2a9409ff7d8ad8",
            "03e3a24d39d647c4a2fc8c0101187166",
            "82e9336560644a1987707f221ae88cfa",
            "3dc8051a7db04ff1bae4b1d2c42cbb21",
            "e0da4962b6d347038c8f035d342a4e0e",
            "61301fa0d9c44db39b724d820abe170a",
            "2f630023ad6c4ba79aa60fbf76efe75f",
            "2fad866223de4d0d831d0e816b2508c2",
            "ad8c83f36534471ca521dc035fdd19e6",
            "1affea0a0d9144e28d7ed18a841adcb6"
          ]
        },
        "id": "lcMEbx7a_a7V",
        "outputId": "b34d3bf8-1a9b-4417-f84c-a522390158df"
      },
      "execution_count": 27,
      "outputs": [
        {
          "output_type": "stream",
          "name": "stderr",
          "text": [
            "Cloning https://huggingface.co/bsenst/skin-cancer-HAM10k into local empty directory.\n",
            "WARNING:huggingface_hub.repository:Cloning https://huggingface.co/bsenst/skin-cancer-HAM10k into local empty directory.\n"
          ]
        },
        {
          "output_type": "display_data",
          "data": {
            "text/plain": [
              "Download file xception_v4_1_07_0.699.h5:   0%|          | 3.48k/80.0M [00:00<?, ?B/s]"
            ],
            "application/vnd.jupyter.widget-view+json": {
              "version_major": 2,
              "version_minor": 0,
              "model_id": "ae3d88c034174614a1ff1f2a7d4d0504"
            }
          },
          "metadata": {}
        },
        {
          "output_type": "display_data",
          "data": {
            "text/plain": [
              "Clean file xception_v4_1_07_0.699.h5:   0%|          | 1.00k/80.0M [00:00<?, ?B/s]"
            ],
            "application/vnd.jupyter.widget-view+json": {
              "version_major": 2,
              "version_minor": 0,
              "model_id": "d5aaaf7039bc4d1dab94215c7880000a"
            }
          },
          "metadata": {}
        }
      ]
    },
    {
      "cell_type": "code",
      "source": [
        "import keras\n",
        "model = keras.models.load_model(\"/content/repo/xception_v4_1_07_0.699.h5\")"
      ],
      "metadata": {
        "id": "lJZan6nI9IhZ"
      },
      "execution_count": 28,
      "outputs": []
    },
    {
      "cell_type": "code",
      "source": [
        "from tensorflow.keras.preprocessing.image import load_img\n",
        "# ! wget \"https://upload.wikimedia.org/wikipedia/commons/thumb/6/6c/Melanoma.jpg/320px-Melanoma.jpg\"\n",
        "img = load_img(\"320px-Melanoma.jpg\", target_size=(150, 150))\n",
        "import numpy as np\n",
        "x = np.array(img)\n",
        "X = np.array([x])\n",
        "X.shape\n",
        "from tensorflow.keras.applications.xception import preprocess_input\n",
        "X = preprocess_input(X)\n",
        "pred = model.predict(X)\n",
        "classes = [\n",
        "    \"akiec\",\n",
        "    \"bcc\",\n",
        "    \"bkl\",\n",
        "    \"df\",\n",
        "    \"mel\",\n",
        "    \"nv\",\n",
        "    \"vasc\",\n",
        "]\n",
        "dict(zip(classes, pred[0]))"
      ],
      "metadata": {
        "colab": {
          "base_uri": "https://localhost:8080/"
        },
        "id": "NcS6lueuCtj9",
        "outputId": "9ea20f4d-f3c9-46ea-8fa3-7ad759342604"
      },
      "execution_count": 40,
      "outputs": [
        {
          "output_type": "stream",
          "name": "stdout",
          "text": [
            "1/1 [==============================] - 0s 117ms/step\n"
          ]
        },
        {
          "output_type": "execute_result",
          "data": {
            "text/plain": [
              "{'akiec': -19.072325,\n",
              " 'bcc': -18.326487,\n",
              " 'bkl': -8.601684,\n",
              " 'df': -34.96761,\n",
              " 'mel': 7.388905,\n",
              " 'nv': 2.8025546,\n",
              " 'vasc': -5.3949637}"
            ]
          },
          "metadata": {},
          "execution_count": 40
        }
      ]
    },
    {
      "cell_type": "markdown",
      "source": [
        "https://dx.doi.org/10.2139/ssrn.3574612\n",
        "\n",
        "Melanoma (MEL), Melanomic Neves (NV), Basal Cell Carcinoma (BCC),Actinic Keratosis (AKIEC), Benign Keratosis (BKL), Dermatofibroma (DF), Vascular Lesion (VASC)"
      ],
      "metadata": {
        "id": "6dGFhYuIHkhL"
      }
    },
    {
      "cell_type": "code",
      "source": [
        "config = model.get_config()\n",
        "config"
      ],
      "metadata": {
        "id": "ktKNjH0nHypb"
      },
      "execution_count": null,
      "outputs": []
    },
    {
      "cell_type": "code",
      "source": [
        "import json\n",
        "json.dumps(config)"
      ],
      "metadata": {
        "colab": {
          "base_uri": "https://localhost:8080/",
          "height": 165
        },
        "id": "1DH95wpTIA0Q",
        "outputId": "524927ba-11fe-4262-f50f-2b210a9675fd"
      },
      "execution_count": 49,
      "outputs": [
        {
          "output_type": "execute_result",
          "data": {
            "text/plain": [
              "'{\"name\": \"model\", \"layers\": [{\"class_name\": \"InputLayer\", \"config\": {\"batch_input_shape\": [null, 150, 150, 3], \"dtype\": \"float32\", \"sparse\": false, \"ragged\": false, \"name\": \"input_2\"}, \"name\": \"input_2\", \"inbound_nodes\": []}, {\"class_name\": \"Functional\", \"config\": {\"name\": \"xception\", \"layers\": [{\"class_name\": \"InputLayer\", \"config\": {\"batch_input_shape\": [null, 150, 150, 3], \"dtype\": \"float32\", \"sparse\": false, \"ragged\": false, \"name\": \"input_1\"}, \"name\": \"input_1\", \"inbound_nodes\": []}, {\"class_name\": \"Conv2D\", \"config\": {\"name\": \"block1_conv1\", \"trainable\": false, \"dtype\": \"float32\", \"filters\": 32, \"kernel_size\": [3, 3], \"strides\": [2, 2], \"padding\": \"valid\", \"data_format\": \"channels_last\", \"dilation_rate\": [1, 1], \"groups\": 1, \"activation\": \"linear\", \"use_bias\": false, \"kernel_initializer\": {\"class_name\": \"GlorotUniform\", \"config\": {\"seed\": null}}, \"bias_initializer\": {\"class_name\": \"Zeros\", \"config\": {}}, \"kernel_regularizer\": null, \"bias_regularizer\": null, \"activity_regularizer\": null, \"kernel_constraint\": null, \"bias_constraint\": null}, \"name\": \"block1_conv1\", \"inbound_nodes\": [[[\"input_1\", 0, 0, {}]]]}, {\"class_name\": \"BatchNormalization\", \"config\": {\"name\": \"block1_conv1_bn\", \"trainable\": false, \"dtype\": \"float32\", \"axis\": [3], \"momentum\": 0.99, \"epsilon\": 0.001, \"center\": true, \"scale\": true, \"beta_initializer\": {\"class_name\": \"Zeros\", \"config\": {}}, \"gamma_initializer\": {\"class_name\": \"Ones\", \"config\": {}}, \"moving_mean_initializer\": {\"class_name\": \"Zeros\", \"config\": {}}, \"moving_variance_initializer\": {\"class_name\": \"Ones\", \"config\": {}}, \"beta_regularizer\": null, \"gamma_regularizer\": null, \"beta_constraint\": null, \"gamma_constraint\": null}, \"name\": \"block1_conv1_bn\", \"inbound_nodes\": [[[\"block1_conv1\", 0, 0, {}]]]}, {\"class_name\": \"Activation\", \"config\": {\"name\": \"block1_conv1_act\", \"trainable\": false, \"dtype\": \"float32\", \"activation\": \"relu\"}, \"name\": \"block1_conv1_act\", \"inbound_nodes\": [[[\"block1_conv1_bn\", 0, 0, {}]]]}, {\"class_name\": \"Conv2D\", \"config\": {\"name\": \"block1_conv2\", \"trainable\": false, \"dtype\": \"float32\", \"filters\": 64, \"kernel_size\": [3, 3], \"strides\": [1, 1], \"padding\": \"valid\", \"data_format\": \"channels_last\", \"dilation_rate\": [1, 1], \"groups\": 1, \"activation\": \"linear\", \"use_bias\": false, \"kernel_initializer\": {\"class_name\": \"GlorotUniform\", \"config\": {\"seed\": null}}, \"bias_initializer\": {\"class_name\": \"Zeros\", \"config\": {}}, \"kernel_regularizer\": null, \"bias_regularizer\": null, \"activity_regularizer\": null, \"kernel_constraint\": null, \"bias_constraint\": null}, \"name\": \"block1_conv2\", \"inbound_nodes\": [[[\"block1_conv1_act\", 0, 0, {}]]]}, {\"class_name\": \"BatchNormalization\", \"config\": {\"name\": \"block1_conv2_bn\", \"trainable\": false, \"dtype\": \"float32\", \"axis\": [3], \"momentum\": 0.99, \"epsilon\": 0.001, \"center\": true, \"scale\": true, \"beta_initializer\": {\"class_name\": \"Zeros\", \"config\": {}}, \"gamma_initializer\": {\"class_name\": \"Ones\", \"config\": {}}, \"moving_mean_initializer\": {\"class_name\": \"Zeros\", \"config\": {}}, \"moving_variance_initializer\": {\"class_name\": \"Ones\", \"config\": {}}, \"beta_regularizer\": null, \"gamma_regularizer\": null, \"beta_constraint\": null, \"gamma_constraint\": null}, \"name\": \"block1_conv2_bn\", \"inbound_nodes\": [[[\"block1_conv2\", 0, 0, {}]]]}, {\"class_name\": \"Activation\", \"config\": {\"name\": \"block1_conv2_act\", \"trainable\": false, \"dtype\": \"float32\", \"activation\": \"relu\"}, \"name\": \"block1_conv2_act\", \"inbound_nodes\": [[[\"block1_conv2_bn\", 0, 0, {}]]]}, {\"class_name\": \"SeparableConv2D\", \"config\": {\"name\": \"block2_sepconv1\", \"trainable\": false, \"dtype\": \"float32\", \"filters\": 128, \"kernel_size\": [3, 3], \"strides\": [1, 1], \"padding\": \"same\", \"data_format\": \"channels_last\", \"dilation_rate\": [1, 1], \"groups\": 1, \"activation\": \"linear\", \"use_bias\": false, \"kernel_initializer\": {\"class_name\": \"GlorotUniform\", \"config\": {\"seed\": null}}, \"bias_initializer\": {\"class_name\": \"Zeros\", \"config\": {}, \"shared_object_id\": 22}, \"kernel_regularizer\": null, \"bias_regularizer\": null, \"activity_regularizer\": null, \"kernel_constraint\": null, \"bias_constraint\": null, \"depth_multiplier\": 1, \"depthwise_initializer\": {\"class_name\": \"GlorotUniform\", \"config\": {\"seed\": null}}, \"pointwise_initializer\": {\"class_name\": \"GlorotUniform\", \"config\": {\"seed\": null}}, \"depthwise_regularizer\": null, \"pointwise_regularizer\": null, \"depthwise_constraint\": null, \"pointwise_constraint\": null}, \"name\": \"block2_sepconv1\", \"inbound_nodes\": [[[\"block1_conv2_act\", 0, 0, {}]]]}, {\"class_name\": \"BatchNormalization\", \"config\": {\"name\": \"block2_sepconv1_bn\", \"trainable\": false, \"dtype\": \"float32\", \"axis\": [3], \"momentum\": 0.99, \"epsilon\": 0.001, \"center\": true, \"scale\": true, \"beta_initializer\": {\"class_name\": \"Zeros\", \"config\": {}}, \"gamma_initializer\": {\"class_name\": \"Ones\", \"config\": {}}, \"moving_mean_initializer\": {\"class_name\": \"Zeros\", \"config\": {}}, \"moving_variance_initializer\": {\"class_name\": \"Ones\", \"config\": {}}, \"beta_regularizer\": null, \"gamma_regularizer\": null, \"beta_constraint\": null, \"gamma_constraint\": null}, \"name\": \"block2_sepconv1_bn\", \"inbound_nodes\": [[[\"block2_sepconv1\", 0, 0, {}]]]}, {\"class_name\": \"Activation\", \"config\": {\"name\": \"block2_sepconv2_act\", \"trainable\": false, \"dtype\": \"float32\", \"activation\": \"relu\"}, \"name\": \"block2_sepconv2_act\", \"inbound_nodes\": [[[\"block2_sepconv1_bn\", 0, 0, {}]]]}, {\"class_name\": \"SeparableConv2D\", \"config\": {\"name\": \"block2_sepconv2\", \"trainable\": false, \"dtype\": \"float32\", \"filters\": 128, \"kernel_size\": [3, 3], \"strides\": [1, 1], \"padding\": \"same\", \"data_format\": \"channels_last\", \"dilation_rate\": [1, 1], \"groups\": 1, \"activation\": \"linear\", \"use_bias\": false, \"kernel_initializer\": {\"class_name\": \"GlorotUniform\", \"config\": {\"seed\": null}}, \"bias_initializer\": {\"class_name\": \"Zeros\", \"config\": {}, \"shared_object_id\": 33}, \"kernel_regularizer\": null, \"bias_regularizer\": null, \"activity_regularizer\": null, \"kernel_constraint\": null, \"bias_constraint\": null, \"depth_multiplier\": 1, \"depthwise_initializer\": {\"class_name\": \"GlorotUniform\", \"config\": {\"seed\": null}}, \"pointwise_initializer\": {\"class_name\": \"GlorotUniform\", \"config\": {\"seed\": null}}, \"depthwise_regularizer\": null, \"pointwise_regularizer\": null, \"depthwise_constraint\": null, \"pointwise_constraint\": null}, \"name\": \"block2_sepconv2\", \"inbound_nodes\": [[[\"block2_sepconv2_act\", 0, 0, {}]]]}, {\"class_name\": \"BatchNormalization\", \"config\": {\"name\": \"block2_sepconv2_bn\", \"trainable\": false, \"dtype\": \"float32\", \"axis\": [3], \"momentum\": 0.99, \"epsilon\": 0.001, \"center\": true, \"scale\": true, \"beta_initializer\": {\"class_name\": \"Zeros\", \"config\": {}}, \"gamma_initializer\": {\"class_name\": \"Ones\", \"config\": {}}, \"moving_mean_initializer\": {\"class_name\": \"Zeros\", \"config\": {}}, \"moving_variance_initializer\": {\"class_name\": \"Ones\", \"config\": {}}, \"beta_regularizer\": null, \"gamma_regularizer\": null, \"beta_constraint\": null, \"gamma_constraint\": null}, \"name\": \"block2_sepconv2_bn\", \"inbound_nodes\": [[[\"block2_sepconv2\", 0, 0, {}]]]}, {\"class_name\": \"Conv2D\", \"config\": {\"name\": \"conv2d\", \"trainable\": false, \"dtype\": \"float32\", \"filters\": 128, \"kernel_size\": [1, 1], \"strides\": [2, 2], \"padding\": \"same\", \"data_format\": \"channels_last\", \"dilation_rate\": [1, 1], \"groups\": 1, \"activation\": \"linear\", \"use_bias\": false, \"kernel_initializer\": {\"class_name\": \"GlorotUniform\", \"config\": {\"seed\": null}}, \"bias_initializer\": {\"class_name\": \"Zeros\", \"config\": {}}, \"kernel_regularizer\": null, \"bias_regularizer\": null, \"activity_regularizer\": null, \"kernel_constraint\": null, \"bias_constraint\": null}, \"name\": \"conv2d\", \"inbound_nodes\": [[[\"block1_conv2_act\", 0, 0, {}]]]}, {\"class_name\": \"MaxPooling2D\", \"config\": {\"name\": \"block2_pool\", \"trainable\": false, \"dtype\": \"float32\", \"pool_size\": [3, 3], \"padding\": \"same\", \"strides\": [2, 2], \"data_format\": \"channels_last\"}, \"name\": \"block2_pool\", \"inbound_nodes\": [[[\"block2_sepconv2_bn\", 0, 0, {}]]]}, {\"class_name\": \"BatchNormalization\", \"config\": {\"name\": \"batch_normalization\", \"trainable\": false, \"dtype\": \"float32\", \"axis\": [3], \"momentum\": 0.99, \"epsilon\": 0.001, \"center\": true, \"scale\": true, \"beta_initializer\": {\"class_name\": \"Zeros\", \"config\": {}}, \"gamma_initializer\": {\"class_name\": \"Ones\", \"config\": {}}, \"moving_mean_initializer\": {\"class_name\": \"Zeros\", \"config\": {}}, \"moving_variance_initializer\": {\"class_name\": \"Ones\", \"config\": {}}, \"beta_regularizer\": null, \"gamma_regularizer\": null, \"beta_constraint\": null, \"gamma_constraint\": null}, \"name\": \"batch_normalization\", \"inbound_nodes\": [[[\"conv2d\", 0, 0, {}]]]}, {\"class_name\": \"Add\", \"config\": {\"name\": \"add\", \"trainable\": false, \"dtype\": \"float32\"}, \"name\": \"add\", \"inbound_nodes\": [[[\"block2_pool\", 0, 0, {}], [\"batch_normalization\", 0, 0, {}]]]}, {\"class_name\": \"Activation\", \"config\": {\"name\": \"block3_sepconv1_act\", \"trainable\": false, \"dtype\": \"float32\", \"activation\": \"relu\"}, \"name\": \"block3_sepconv1_act\", \"inbound_nodes\": [[[\"add\", 0, 0, {}]]]}, {\"class_name\": \"SeparableConv2D\", \"config\": {\"name\": \"block3_sepconv1\", \"trainable\": false, \"dtype\": \"float32\", \"filters\": 256, \"kernel_size\": [3, 3], \"strides\": [1, 1], \"padding\": \"same\", \"data_format\": \"channels_last\", \"dilation_rate\": [1, 1], \"groups\": 1, \"activation\": \"linear\", \"use_bias\": false, \"kernel_initializer\": {\"class_name\": \"GlorotUniform\", \"config\": {\"seed\": null}}, \"bias_initializer\": {\"class_name\": \"Zeros\", \"config\": {}, \"shared_object_id\": 54}, \"kernel_regularizer\": null, \"bias_regularizer\": null, \"activity_regularizer\": null, \"kernel_constraint\": null, \"bias_constraint\": null, \"depth_multiplier\": 1, \"depthwise_initializer\": {\"class_name\": \"GlorotUniform\", \"config\": {\"seed\": null}}, \"pointwise_initializer\": {\"class_name\": \"GlorotUniform\", \"config\": {\"seed\": null}}, \"depthwise_regularizer\": null, \"pointwise_regularizer\": null, \"depthwise_constraint\": null, \"pointwise_constraint\": null}, \"name\": \"block3_sepconv1\", \"inbound_nodes\": [[[\"block3_sepconv1_act\", 0, 0, {}]]]}, {\"class_name\": \"BatchNormalization\", \"config\": {\"name\": \"block3_sepconv1_bn\", \"trainable\": false, \"dtype\": \"float32\", \"axis\": [3], \"momentum\": 0.99, \"epsilon\": 0.001, \"center\": true, \"scale\": true, \"beta_initializer\": {\"class_name\": \"Zeros\", \"config\": {}}, \"gamma_initializer\": {\"class_name\": \"Ones\", \"config\": {}}, \"moving_mean_initializer\": {\"class_name\": \"Zeros\", \"config\": {}}, \"moving_variance_initializer\": {\"class_name\": \"Ones\", \"config\": {}}, \"beta_regularizer\": null, \"gamma_regularizer\": null, \"beta_constraint\": null, \"gamma_constraint\": null}, \"name\": \"block3_sepconv1_bn\", \"inbound_nodes\": [[[\"block3_sepconv1\", 0, 0, {}]]]}, {\"class_name\": \"Activation\", \"config\": {\"name\": \"block3_sepconv2_act\", \"trainable\": false, \"dtype\": \"float32\", \"activation\": \"relu\"}, \"name\": \"block3_sepconv2_act\", \"inbound_nodes\": [[[\"block3_sepconv1_bn\", 0, 0, {}]]]}, {\"class_name\": \"SeparableConv2D\", \"config\": {\"name\": \"block3_sepconv2\", \"trainable\": false, \"dtype\": \"float32\", \"filters\": 256, \"kernel_size\": [3, 3], \"strides\": [1, 1], \"padding\": \"same\", \"data_format\": \"channels_last\", \"dilation_rate\": [1, 1], \"groups\": 1, \"activation\": \"linear\", \"use_bias\": false, \"kernel_initializer\": {\"class_name\": \"GlorotUniform\", \"config\": {\"seed\": null}}, \"bias_initializer\": {\"class_name\": \"Zeros\", \"config\": {}, \"shared_object_id\": 65}, \"kernel_regularizer\": null, \"bias_regularizer\": null, \"activity_regularizer\": null, \"kernel_constraint\": null, \"bias_constraint\": null, \"depth_multiplier\": 1, \"depthwise_initializer\": {\"class_name\": \"GlorotUniform\", \"config\": {\"seed\": null}}, \"pointwise_initializer\": {\"class_name\": \"GlorotUniform\", \"config\": {\"seed\": null}}, \"depthwise_regularizer\": null, \"pointwise_regularizer\": null, \"depthwise_constraint\": null, \"pointwise_constraint\": null}, \"name\": \"block3_sepconv2\", \"inbound_nodes\": [[[\"block3_sepconv2_act\", 0, 0, {}]]]}, {\"class_name\": \"BatchNormalization\", \"config\": {\"name\": \"block3_sepconv2_bn\", \"trainable\": false, \"dtype\": \"float32\", \"axis\": [3], \"momentum\": 0.99, \"epsilon\": 0.001, \"center\": true, \"scale\": true, \"beta_initializer\": {\"class_name\": \"Zeros\", \"config\": {}}, \"gamma_initializer\": {\"class_name\": \"Ones\", \"config\": {}}, \"moving_mean_initializer\": {\"class_name\": \"Zeros\", \"config\": {}}, \"moving_variance_initializer\": {\"class_name\": \"Ones\", \"config\": {}}, \"beta_regularizer\": null, \"gamma_regularizer\": null, \"beta_constraint\": null, \"gamma_constraint\": null}, \"name\": \"block3_sepconv2_bn\", \"inbound_nodes\": [[[\"block3_sepconv2\", 0, 0, {}]]]}, {\"class_name\": \"Conv2D\", \"config\": {\"name\": \"conv2d_1\", \"trainable\": false, \"dtype\": \"float32\", \"filters\": 256, \"kernel_size\": [1, 1], \"strides\": [2, 2], \"padding\": \"same\", \"data_format\": \"channels_last\", \"dilation_rate\": [1, 1], \"groups\": 1, \"activation\": \"linear\", \"use_bias\": false, \"kernel_initializer\": {\"class_name\": \"GlorotUniform\", \"config\": {\"seed\": null}}, \"bias_initializer\": {\"class_name\": \"Zeros\", \"config\": {}}, \"kernel_regularizer\": null, \"bias_regularizer\": null, \"activity_regularizer\": null, \"kernel_constraint\": null, \"bias_constraint\": null}, \"name\": \"conv2d_1\", \"inbound_nodes\": [[[\"add\", 0, 0, {}]]]}, {\"class_name\": \"MaxPooling2D\", \"config\": {\"name\": \"block3_pool\", \"trainable\": false, \"dtype\": \"float32\", \"pool_size\": [3, 3], \"padding\": \"same\", \"strides\": [2, 2], \"data_format\": \"channels_last\"}, \"name\": \"block3_pool\", \"inbound_nodes\": [[[\"block3_sepconv2_bn\", 0, 0, {}]]]}, {\"class_name\": \"BatchNormalization\", \"config\": {\"name\": \"batch_normalization_1\", \"trainable\": false, \"dtype\": \"float32\", \"axis\": [3], \"momentum\": 0.99, \"epsilon\": 0.001, \"center\": true, \"scale\": true, \"beta_initializer\": {\"class_name\": \"Zeros\", \"config\": {}}, \"gamma_initializer\": {\"class_name\": \"Ones\", \"config\": {}}, \"moving_mean_initializer\": {\"class_name\": \"Zeros\", \"config\": {}}, \"moving_variance_initializer\": {\"class_name\": \"Ones\", \"config\": {}}, \"beta_regularizer\": null, \"gamma_regularizer\": null, \"beta_constraint\": null, \"gamma_constraint\": null}, \"name\": \"batch_normalization_1\", \"inbound_nodes\": [[[\"conv2d_1\", 0, 0, {}]]]}, {\"class_name\": \"Add\", \"config\": {\"name\": \"add_1\", \"trainable\": false, \"dtype\": \"float32\"}, \"name\": \"add_1\", \"inbound_nodes\": [[[\"block3_pool\", 0, 0, {}], [\"batch_normalization_1\", 0, 0, {}]]]}, {\"class_name\": \"Activation\", \"config\": {\"name\": \"block4_sepconv1_act\", \"trainable\": false, \"dtype\": \"float32\", \"activation\": \"relu\"}, \"name\": \"block4_sepconv1_act\", \"inbound_nodes\": [[[\"add_1\", 0, 0, {}]]]}, {\"class_name\": \"SeparableConv2D\", \"config\": {\"name\": \"block4_sepconv1\", \"trainable\": false, \"dtype\": \"float32\", \"filters\": 728, \"kernel_size\": [3, 3], \"strides\": [1, 1], \"padding\": \"same\", \"data_format\": \"channels_last\", \"dilation_rate\": [1, 1], \"groups\": 1, \"activation\": \"linear\", \"use_bias\": false, \"kernel_initializer\": {\"class_name\": \"GlorotUniform\", \"config\": {\"seed\": null}}, \"bias_initializer\": {\"class_name\": \"Zeros\", \"config\": {}, \"shared_object_id\": 86}, \"kernel_regularizer\": null, \"bias_regularizer\": null, \"activity_regularizer\": null, \"kernel_constraint\": null, \"bias_constraint\": null, \"depth_multiplier\": 1, \"depthwise_initializer\": {\"class_name\": \"GlorotUniform\", \"config\": {\"seed\": null}}, \"pointwise_initializer\": {\"class_name\": \"GlorotUniform\", \"config\": {\"seed\": null}}, \"depthwise_regularizer\": null, \"pointwise_regularizer\": null, \"depthwise_constraint\": null, \"pointwise_constraint\": null}, \"name\": \"block4_sepconv1\", \"inbound_nodes\": [[[\"block4_sepconv1_act\", 0, 0, {}]]]}, {\"class_name\": \"BatchNormalization\", \"config\": {\"name\": \"block4_sepconv1_bn\", \"trainable\": false, \"dtype\": \"float32\", \"axis\": [3], \"momentum\": 0.99, \"epsilon\": 0.001, \"center\": true, \"scale\": true, \"beta_initializer\": {\"class_name\": \"Zeros\", \"config\": {}}, \"gamma_initializer\": {\"class_name\": \"Ones\", \"config\": {}}, \"moving_mean_initializer\": {\"class_name\": \"Zeros\", \"config\": {}}, \"moving_variance_initializer\": {\"class_name\": \"Ones\", \"config\": {}}, \"beta_regularizer\": null, \"gamma_regularizer\": null, \"beta_constraint\": null, \"gamma_constraint\": null}, \"name\": \"block4_sepconv1_bn\", \"inbound_nodes\": [[[\"block4_sepconv1\", 0, 0, {}]]]}, {\"class_name\": \"Activation\", \"config\": {\"name\": \"block4_sepconv2_act\", \"trainable\": false, \"dtype\": \"float32\", \"activation\": \"relu\"}, \"name\": \"block4_sepconv2_act\", \"inbound_nodes\": [[[\"block4_sepconv1_bn\", 0, 0, {}]]]}, {\"class_name\": \"SeparableConv2D\", \"config\": {\"name\": \"block4_sepconv2\", \"trainable\": false, \"dtype\": \"float32\", \"filters\": 728, \"kernel_size\": [3, 3], \"strides\": [1, 1], \"padding\": \"same\", \"data_format\": \"channels_last\", \"dilation_rate\": [1, 1], \"groups\": 1, \"activation\": \"linear\", \"use_bias\": false, \"kernel_initializer\": {\"class_name\": \"GlorotUniform\", \"config\": {\"seed\": null}}, \"bias_initializer\": {\"class_name\": \"Zeros\", \"config\": {}, \"shared_object_id\": 97}, \"kernel_regularizer\": null, \"bias_regularizer\": null, \"activity_regularizer\": null, \"kernel_constraint\": null, \"bias_constraint\": null, \"depth_multiplier\": 1, \"depthwise_initializer\": {\"class_name\": \"GlorotUniform\", \"config\": {\"seed\": null}}, \"pointwise_initializer\": {\"class_name\": \"GlorotUniform\", \"config\": {\"seed\": null}}, \"depthwise_regularizer\": null, \"pointwise_regularizer\": null, \"depthwise_constraint\": null, \"pointwise_constraint\": null}, \"name\": \"block4_sepconv2\", \"inbound_nodes\": [[[\"block4_sepconv2_act\", 0, 0, {}]]]}, {\"class_name\": \"BatchNormalization\", \"config\": {\"name\": \"block4_sepconv2_bn\", \"trainable\": false, \"dtype\": \"float32\", \"axis\": [3], \"momentum\": 0.99, \"epsilon\": 0.001, \"center\": true, \"scale\": true, \"beta_initializer\": {\"class_name\": \"Zeros\", \"config\": {}}, \"gamma_initializer\": {\"class_name\": \"Ones\", \"config\": {}}, \"moving_mean_initializer\": {\"class_name\": \"Zeros\", \"config\": {}}, \"moving_variance_initializer\": {\"class_name\": \"Ones\", \"config\": {}}, \"beta_regularizer\": null, \"gamma_regularizer\": null, \"beta_constraint\": null, \"gamma_constraint\": null}, \"name\": \"block4_sepconv2_bn\", \"inbound_nodes\": [[[\"block4_sepconv2\", 0, 0, {}]]]}, {\"class_name\": \"Conv2D\", \"config\": {\"name\": \"conv2d_2\", \"trainable\": false, \"dtype\": \"float32\", \"filters\": 728, \"kernel_size\": [1, 1], \"strides\": [2, 2], \"padding\": \"same\", \"data_format\": \"channels_last\", \"dilation_rate\": [1, 1], \"groups\": 1, \"activation\": \"linear\", \"use_bias\": false, \"kernel_initializer\": {\"class_name\": \"GlorotUniform\", \"config\": {\"seed\": null}}, \"bias_initializer\": {\"class_name\": \"Zeros\", \"config\": {}}, \"kernel_regularizer\": null, \"bias_regularizer\": null, \"activity_regularizer\": null, \"kernel_constraint\": null, \"bias_constraint\": null}, \"name\": \"conv2d_2\", \"inbound_nodes\": [[[\"add_1\", 0, 0, {}]]]}, {\"class_name\": \"MaxPooling2D\", \"config\": {\"name\": \"block4_pool\", \"trainable\": false, \"dtype\": \"float32\", \"pool_size\": [3, 3], \"padding\": \"same\", \"strides\": [2, 2], \"data_format\": \"channels_last\"}, \"name\": \"block4_pool\", \"inbound_nodes\": [[[\"block4_sepconv2_bn\", 0, 0, {}]]]}, {\"class_name\": \"BatchNormalization\", \"config\": {\"name\": \"batch_normalization_2\", \"trainable\": false, \"dtype\": \"float32\", \"axis\": [3], \"momentum\": 0.99, \"epsilon\": 0.001, \"center\": true, \"scale\": true, \"beta_initializer\": {\"class_name\": \"Zeros\", \"config\": {}}, \"gamma_initializer\": {\"class_name\": \"Ones\", \"config\": {}}, \"moving_mean_initializer\": {\"class_name\": \"Zeros\", \"config\": {}}, \"moving_variance_initializer\": {\"class_name\": \"Ones\", \"config\": {}}, \"beta_regularizer\": null, \"gamma_regularizer\": null, \"beta_constraint\": null, \"gamma_constraint\": null}, \"name\": \"batch_normalization_2\", \"inbound_nodes\": [[[\"conv2d_2\", 0, 0, {}]]]}, {\"class_name\": \"Add\", \"config\": {\"name\": \"add_2\", \"trainable\": false, \"dtype\": \"float32\"}, \"name\": \"add_2\", \"inbound_nodes\": [[[\"block4_pool\", 0, 0, {}], [\"batch_normalization_2\", 0, 0, {}]]]}, {\"class_name\": \"Activation\", \"config\": {\"name\": \"block5_sepconv1_act\", \"trainable\": false, \"dtype\": \"float32\", \"activation\": \"relu\"}, \"name\": \"block5_sepconv1_act\", \"inbound_nodes\": [[[\"add_2\", 0, 0, {}]]]}, {\"class_name\": \"SeparableConv2D\", \"config\": {\"name\": \"block5_sepconv1\", \"trainable\": false, \"dtype\": \"float32\", \"filters\": 728, \"kernel_size\": [3, 3], \"strides\": [1, 1], \"padding\": \"same\", \"data_format\": \"channels_last\", \"dilation_rate\": [1, 1], \"groups\": 1, \"activation\": \"linear\", \"use_bias\": false, \"kernel_initializer\": {\"class_name\": \"GlorotUniform\", \"config\": {\"seed\": null}}, \"bias_initializer\": {\"class_name\": \"Zeros\", \"config\": {}, \"shared_object_id\": 118}, \"kernel_regularizer\": null, \"bias_regularizer\": null, \"activity_regularizer\": null, \"kernel_constraint\": null, \"bias_constraint\": null, \"depth_multiplier\": 1, \"depthwise_initializer\": {\"class_name\": \"GlorotUniform\", \"config\": {\"seed\": null}}, \"pointwise_initializer\": {\"class_name\": \"GlorotUniform\", \"config\": {\"seed\": null}}, \"depthwise_regularizer\": null, \"pointwise_regularizer\": null, \"depthwise_constraint\": null, \"pointwise_constraint\": null}, \"name\": \"block5_sepconv1\", \"inbound_nodes\": [[[\"block5_sepconv1_act\", 0, 0, {}]]]}, {\"class_name\": \"BatchNormalization\", \"config\": {\"name\": \"block5_sepconv1_bn\", \"trainable\": false, \"dtype\": \"float32\", \"axis\": [3], \"momentum\": 0.99, \"epsilon\": 0.001, \"center\": true, \"scale\": true, \"beta_initializer\": {\"class_name\": \"Zeros\", \"config\": {}}, \"gamma_initializer\": {\"class_name\": \"Ones\", \"config\": {}}, \"moving_mean_initializer\": {\"class_name\": \"Zeros\", \"config\": {}}, \"moving_variance_initializer\": {\"class_name\": \"Ones\", \"config\": {}}, \"beta_regularizer\": null, \"gamma_regularizer\": null, \"beta_constraint\": null, \"gamma_constraint\": null}, \"name\": \"block5_sepconv1_bn\", \"inbound_nodes\": [[[\"block5_sepconv1\", 0, 0, {}]]]}, {\"class_name\": \"Activation\", \"config\": {\"name\": \"block5_sepconv2_act\", \"trainable\": false, \"dtype\": \"float32\", \"activation\": \"relu\"}, \"name\": \"block5_sepconv2_act\", \"inbound_nodes\": [[[\"block5_sepconv1_bn\", 0, 0, {}]]]}, {\"class_name\": \"SeparableConv2D\", \"config\": {\"name\": \"block5_sepconv2\", \"trainable\": false, \"dtype\": \"float32\", \"filters\": 728, \"kernel_size\": [3, 3], \"strides\": [1, 1], \"padding\": \"same\", \"data_format\": \"channels_last\", \"dilation_rate\": [1, 1], \"groups\": 1, \"activation\": \"linear\", \"use_bias\": false, \"kernel_initializer\": {\"class_name\": \"GlorotUniform\", \"config\": {\"seed\": null}}, \"bias_initializer\": {\"class_name\": \"Zeros\", \"config\": {}, \"shared_object_id\": 129}, \"kernel_regularizer\": null, \"bias_regularizer\": null, \"activity_regularizer\": null, \"kernel_constraint\": null, \"bias_constraint\": null, \"depth_multiplier\": 1, \"depthwise_initializer\": {\"class_name\": \"GlorotUniform\", \"config\": {\"seed\": null}}, \"pointwise_initializer\": {\"class_name\": \"GlorotUniform\", \"config\": {\"seed\": null}}, \"depthwise_regularizer\": null, \"pointwise_regularizer\": null, \"depthwise_constraint\": null, \"pointwise_constraint\": null}, \"name\": \"block5_sepconv2\", \"inbound_nodes\": [[[\"block5_sepconv2_act\", 0, 0, {}]]]}, {\"class_name\": \"BatchNormalization\", \"config\": {\"name\": \"block5_sepconv2_bn\", \"trainable\": false, \"dtype\": \"float32\", \"axis\": [3], \"momentum\": 0.99, \"epsilon\": 0.001, \"center\": true, \"scale\": true, \"beta_initializer\": {\"class_name\": \"Zeros\", \"config\": {}}, \"gamma_initializer\": {\"class_name\": \"Ones\", \"config\": {}}, \"moving_mean_initializer\": {\"class_name\": \"Zeros\", \"config\": {}}, \"moving_variance_initializer\": {\"class_name\": \"Ones\", \"config\": {}}, \"beta_regularizer\": null, \"gamma_regularizer\": null, \"beta_constraint\": null, \"gamma_constraint\": null}, \"name\": \"block5_sepconv2_bn\", \"inbound_nodes\": [[[\"block5_sepconv2\", 0, 0, {}]]]}, {\"class_name\": \"Activation\", \"config\": {\"name\": \"block5_sepconv3_act\", \"trainable\": false, \"dtype\": \"float32\", \"activation\": \"relu\"}, \"name\": \"block5_sepconv3_act\", \"inbound_nodes\": [[[\"block5_sepconv2_bn\", 0, 0, {}]]]}, {\"class_name\": \"SeparableConv2D\", \"config\": {\"name\": \"block5_sepconv3\", \"trainable\": false, \"dtype\": \"float32\", \"filters\": 728, \"kernel_size\": [3, 3], \"strides\": [1, 1], \"padding\": \"same\", \"data_format\": \"channels_last\", \"dilation_rate\": [1, 1], \"groups\": 1, \"activation\": \"linear\", \"use_bias\": false, \"kernel_initializer\": {\"class_name\": \"GlorotUniform\", \"config\": {\"seed\": null}}, \"bias_initializer\": {\"class_name\": \"Zeros\", \"config\": {}, \"shared_object_id\": 140}, \"kernel_regularizer\": null, \"bias_regularizer\": null, \"activity_regularizer\": null, \"kernel_constraint\": null, \"bias_constraint\": null, \"depth_multiplier\": 1, \"depthwise_initializer\": {\"class_name\": \"GlorotUniform\", \"config\": {\"seed\": null}}, \"pointwise_initializer\": {\"class_name\": \"GlorotUniform\", \"config\": {\"seed\": null}}, \"depthwise_regularizer\": null, \"pointwise_regularizer\": null, \"depthwise_constraint\": null, \"pointwise_constraint\": null}, \"name\": \"block5_sepconv3\", \"inbound_nodes\": [[[\"block5_sepconv3_act\", 0, 0, {}]]]}, {\"class_name\": \"BatchNormalization\", \"config\": {\"name\": \"block5_sepconv3_bn\", \"trainable\": false, \"dtype\": \"float32\", \"axis\": [3], \"momentum\": 0.99, \"epsilon\": 0.001, \"center\": true, \"scale\": true, \"beta_initializer\": {\"class_name\": \"Zeros\", \"config\": {}}, \"gamma_initializer\": {\"class_name\": \"Ones\", \"config\": {}}, \"moving_mean_initializer\": {\"class_name\": \"Zeros\", \"config\": {}}, \"moving_variance_initializer\": {\"class_name\": \"Ones\", \"config\": {}}, \"beta_regularizer\": null, \"gamma_regularizer\": null, \"beta_constraint\": null, \"gamma_constraint\": null}, \"name\": \"block5_sepconv3_bn\", \"inbound_nodes\": [[[\"block5_sepconv3\", 0, 0, {}]]]}, {\"class_name\": \"Add\", \"config\": {\"name\": \"add_3\", \"trainable\": false, \"dtype\": \"float32\"}, \"name\": \"add_3\", \"inbound_nodes\": [[[\"block5_sepconv3_bn\", 0, 0, {}], [\"add_2\", 0, 0, {}]]]}, {\"class_name\": \"Activation\", \"config\": {\"name\": \"block6_sepconv1_act\", \"trainable\": false, \"dtype\": \"float32\", \"activation\": \"relu\"}, \"name\": \"block6_sepconv1_act\", \"inbound_nodes\": [[[\"add_3\", 0, 0, {}]]]}, {\"class_name\": \"SeparableConv2D\", \"config\": {\"name\": \"block6_sepconv1\", \"trainable\": false, \"dtype\": \"float32\", \"filters\": 728, \"kernel_size\": [3, 3], \"strides\": [1, 1], \"padding\": \"same\", \"data_format\": \"channels_last\", \"dilation_rate\": [1, 1], \"groups\": 1, \"activation\": \"linear\", \"use_bias\": false, \"kernel_initializer\": {\"class_name\": \"GlorotUniform\", \"config\": {\"seed\": null}}, \"bias_initializer\": {\"class_name\": \"Zeros\", \"config\": {}, \"shared_object_id\": 152}, \"kernel_regularizer\": null, \"bias_regularizer\": null, \"activity_regularizer\": null, \"kernel_constraint\": null, \"bias_constraint\": null, \"depth_multiplier\": 1, \"depthwise_initializer\": {\"class_name\": \"GlorotUniform\", \"config\": {\"seed\": null}}, \"pointwise_initializer\": {\"class_name\": \"GlorotUniform\", \"config\": {\"seed\": null}}, \"depthwise_regularizer\": null, \"pointwise_regularizer\": null, \"depthwise_constraint\": null, \"pointwise_constraint\": null}, \"name\": \"block6_sepconv1\", \"inbound_nodes\": [[[\"block6_sepconv1_act\", 0, 0, {}]]]}, {\"class_name\": \"BatchNormalization\", \"config\": {\"name\": \"block6_sepconv1_bn\", \"trainable\": false, \"dtype\": \"float32\", \"axis\": [3], \"momentum\": 0.99, \"epsilon\": 0.001, \"center\": true, \"scale\": true, \"beta_initializer\": {\"class_name\": \"Zeros\", \"config\": {}}, \"gamma_initializer\": {\"class_name\": \"Ones\", \"config\": {}}, \"moving_mean_initializer\": {\"class_name\": \"Zeros\", \"config\": {}}, \"moving_variance_initializer\": {\"class_name\": \"Ones\", \"config\": {}}, \"beta_regularizer\": null, \"gamma_regularizer\": null, \"beta_constraint\": null, \"gamma_constraint\": null}, \"name\": \"block6_sepconv1_bn\", \"inbound_nodes\": [[[\"block6_sepconv1\", 0, 0, {}]]]}, {\"class_name\": \"Activation\", \"config\": {\"name\": \"block6_sepconv2_act\", \"trainable\": false, \"dtype\": \"float32\", \"activation\": \"relu\"}, \"name\": \"block6_sepconv2_act\", \"inbound_nodes\": [[[\"block6_sepconv1_bn\", 0, 0, {}]]]}, {\"class_name\": \"SeparableConv2D\", \"config\": {\"name\": \"block6_sepconv2\", \"trainable\": false, \"dtype\": \"float32\", \"filters\": 728, \"kernel_size\": [3, 3], \"strides\": [1, 1], \"padding\": \"same\", \"data_format\": \"channels_last\", \"dilation_rate\": [1, 1], \"groups\": 1, \"activation\": \"linear\", \"use_bias\": false, \"kernel_initializer\": {\"class_name\": \"GlorotUniform\", \"config\": {\"seed\": null}}, \"bias_initializer\": {\"class_name\": \"Zeros\", \"config\": {}, \"shared_object_id\": 163}, \"kernel_regularizer\": null, \"bias_regularizer\": null, \"activity_regularizer\": null, \"kernel_constraint\": null, \"bias_constraint\": null, \"depth_multiplier\": 1, \"depthwise_initializer\": {\"class_name\": \"GlorotUniform\", \"config\": {\"seed\": null}}, \"pointwise_initializer\": {\"class_name\": \"GlorotUniform\", \"config\": {\"seed\": null}}, \"depthwise_regularizer\": null, \"pointwise_regularizer\": null, \"depthwise_constraint\": null, \"pointwise_constraint\": null}, \"name\": \"block6_sepconv2\", \"inbound_nodes\": [[[\"block6_sepconv2_act\", 0, 0, {}]]]}, {\"class_name\": \"BatchNormalization\", \"config\": {\"name\": \"block6_sepconv2_bn\", \"trainable\": false, \"dtype\": \"float32\", \"axis\": [3], \"momentum\": 0.99, \"epsilon\": 0.001, \"center\": true, \"scale\": true, \"beta_initializer\": {\"class_name\": \"Zeros\", \"config\": {}}, \"gamma_initializer\": {\"class_name\": \"Ones\", \"config\": {}}, \"moving_mean_initializer\": {\"class_name\": \"Zeros\", \"config\": {}}, \"moving_variance_initializer\": {\"class_name\": \"Ones\", \"config\": {}}, \"beta_regularizer\": null, \"gamma_regularizer\": null, \"beta_constraint\": null, \"gamma_constraint\": null}, \"name\": \"block6_sepconv2_bn\", \"inbound_nodes\": [[[\"block6_sepconv2\", 0, 0, {}]]]}, {\"class_name\": \"Activation\", \"config\": {\"name\": \"block6_sepconv3_act\", \"trainable\": false, \"dtype\": \"float32\", \"activation\": \"relu\"}, \"name\": \"block6_sepconv3_act\", \"inbound_nodes\": [[[\"block6_sepconv2_bn\", 0, 0, {}]]]}, {\"class_name\": \"SeparableConv2D\", \"config\": {\"name\": \"block6_sepconv3\", \"trainable\": false, \"dtype\": \"float32\", \"filters\": 728, \"kernel_size\": [3, 3], \"strides\": [1, 1], \"padding\": \"same\", \"data_format\": \"channels_last\", \"dilation_rate\": [1, 1], \"groups\": 1, \"activation\": \"linear\", \"use_bias\": false, \"kernel_initializer\": {\"class_name\": \"GlorotUniform\", \"config\": {\"seed\": null}}, \"bias_initializer\": {\"class_name\": \"Zeros\", \"config\": {}, \"shared_object_id\": 174}, \"kernel_regularizer\": null, \"bias_regularizer\": null, \"activity_regularizer\": null, \"kernel_constraint\": null, \"bias_constraint\": null, \"depth_multiplier\": 1, \"depthwise_initializer\": {\"class_name\": \"GlorotUniform\", \"config\": {\"seed\": null}}, \"pointwise_initializer\": {\"class_name\": \"GlorotUniform\", \"config\": {\"seed\": null}}, \"depthwise_regularizer\": null, \"pointwise_regularizer\": null, \"depthwise_constraint\": null, \"pointwise_constraint\": null}, \"name\": \"block6_sepconv3\", \"inbound_nodes\": [[[\"block6_sepconv3_act\", 0, 0, {}]]]}, {\"class_name\": \"BatchNormalization\", \"config\": {\"name\": \"block6_sepconv3_bn\", \"trainable\": false, \"dtype\": \"float32\", \"axis\": [3], \"momentum\": 0.99, \"epsilon\": 0.001, \"center\": true, \"scale\": true, \"beta_initializer\": {\"class_name\": \"Zeros\", \"config\": {}}, \"gamma_initializer\": {\"class_name\": \"Ones\", \"config\": {}}, \"moving_mean_initializer\": {\"class_name\": \"Zeros\", \"config\": {}}, \"moving_variance_initializer\": {\"class_name\": \"Ones\", \"config\": {}}, \"beta_regularizer\": null, \"gamma_regularizer\": null, \"beta_constraint\": null, \"gamma_constraint\": null}, \"name\": \"block6_sepconv3_bn\", \"inbound_nodes\": [[[\"block6_sepconv3\", 0, 0, {}]]]}, {\"class_name\": \"Add\", \"config\": {\"name\": \"add_4\", \"trainable\": false, \"dtype\": \"float32\"}, \"name\": \"add_4\", \"inbound_nodes\": [[[\"block6_sepconv3_bn\", 0, 0, {}], [\"add_3\", 0, 0, {}]]]}, {\"class_name\": \"Activation\", \"config\": {\"name\": \"block7_sepconv1_act\", \"trainable\": false, \"dtype\": \"float32\", \"activation\": \"relu\"}, \"name\": \"block7_sepconv1_act\", \"inbound_nodes\": [[[\"add_4\", 0, 0, {}]]]}, {\"class_name\": \"SeparableConv2D\", \"config\": {\"name\": \"block7_sepconv1\", \"trainable\": false, \"dtype\": \"float32\", \"filters\": 728, \"kernel_size\": [3, 3], \"strides\": [1, 1], \"padding\": \"same\", \"data_format\": \"channels_last\", \"dilation_rate\": [1, 1], \"groups\": 1, \"activation\": \"linear\", \"use_bias\": false, \"kernel_initializer\": {\"class_name\": \"GlorotUniform\", \"config\": {\"seed\": null}}, \"bias_initializer\": {\"class_name\": \"Zeros\", \"config\": {}, \"shared_object_id\": 186}, \"kernel_regularizer\": null, \"bias_regularizer\": null, \"activity_regularizer\": null, \"kernel_constraint\": null, \"bias_constraint\": null, \"depth_multiplier\": 1, \"depthwise_initializer\": {\"class_name\": \"GlorotUniform\", \"config\": {\"seed\": null}}, \"pointwise_initializer\": {\"class_name\": \"GlorotUniform\", \"config\": {\"seed\": null}}, \"depthwise_regularizer\": null, \"pointwise_regularizer\": null, \"depthwise_constraint\": null, \"pointwise_constraint\": null}, \"name\": \"block7_sepconv1\", \"inbound_nodes\": [[[\"block7_sepconv1_act\", 0, 0, {}]]]}, {\"class_name\": \"BatchNormalization\", \"config\": {\"name\": \"block7_sepconv1_bn\", \"trainable\": false, \"dtype\": \"float32\", \"axis\": [3], \"momentum\": 0.99, \"epsilon\": 0.001, \"center\": true, \"scale\": true, \"beta_initializer\": {\"class_name\": \"Zeros\", \"config\": {}}, \"gamma_initializer\": {\"class_name\": \"Ones\", \"config\": {}}, \"moving_mean_initializer\": {\"class_name\": \"Zeros\", \"config\": {}}, \"moving_variance_initializer\": {\"class_name\": \"Ones\", \"config\": {}}, \"beta_regularizer\": null, \"gamma_regularizer\": null, \"beta_constraint\": null, \"gamma_constraint\": null}, \"name\": \"block7_sepconv1_bn\", \"inbound_nodes\": [[[\"block7_sepconv1\", 0, 0, {}]]]}, {\"class_name\": \"Activation\", \"config\": {\"name\": \"block7_sepconv2_act\", \"trainable\": false, \"dtype\": \"float32\", \"activation\": \"relu\"}, \"name\": \"block7_sepconv2_act\", \"inbound_nodes\": [[[\"block7_sepconv1_bn\", 0, 0, {}]]]}, {\"class_name\": \"SeparableConv2D\", \"config\": {\"name\": \"block7_sepconv2\", \"trainable\": false, \"dtype\": \"float32\", \"filters\": 728, \"kernel_size\": [3, 3], \"strides\": [1, 1], \"padding\": \"same\", \"data_format\": \"channels_last\", \"dilation_rate\": [1, 1], \"groups\": 1, \"activation\": \"linear\", \"use_bias\": false, \"kernel_initializer\": {\"class_name\": \"GlorotUniform\", \"config\": {\"seed\": null}}, \"bias_initializer\": {\"class_name\": \"Zeros\", \"config\": {}, \"shared_object_id\": 197}, \"kernel_regularizer\": null, \"bias_regularizer\": null, \"activity_regularizer\": null, \"kernel_constraint\": null, \"bias_constraint\": null, \"depth_multiplier\": 1, \"depthwise_initializer\": {\"class_name\": \"GlorotUniform\", \"config\": {\"seed\": null}}, \"pointwise_initializer\": {\"class_name\": \"GlorotUniform\", \"config\": {\"seed\": null}}, \"depthwise_regularizer\": null, \"pointwise_regularizer\": null, \"depthwise_constraint\": null, \"pointwise_constraint\": null}, \"name\": \"block7_sepconv2\", \"inbound_nodes\": [[[\"block7_sepconv2_act\", 0, 0, {}]]]}, {\"class_name\": \"BatchNormalization\", \"config\": {\"name\": \"block7_sepconv2_bn\", \"trainable\": false, \"dtype\": \"float32\", \"axis\": [3], \"momentum\": 0.99, \"epsilon\": 0.001, \"center\": true, \"scale\": true, \"beta_initializer\": {\"class_name\": \"Zeros\", \"config\": {}}, \"gamma_initializer\": {\"class_name\": \"Ones\", \"config\": {}}, \"moving_mean_initializer\": {\"class_name\": \"Zeros\", \"config\": {}}, \"moving_variance_initializer\": {\"class_name\": \"Ones\", \"config\": {}}, \"beta_regularizer\": null, \"gamma_regularizer\": null, \"beta_constraint\": null, \"gamma_constraint\": null}, \"name\": \"block7_sepconv2_bn\", \"inbound_nodes\": [[[\"block7_sepconv2\", 0, 0, {}]]]}, {\"class_name\": \"Activation\", \"config\": {\"name\": \"block7_sepconv3_act\", \"trainable\": false, \"dtype\": \"float32\", \"activation\": \"relu\"}, \"name\": \"block7_sepconv3_act\", \"inbound_nodes\": [[[\"block7_sepconv2_bn\", 0, 0, {}]]]}, {\"class_name\": \"SeparableConv2D\", \"config\": {\"name\": \"block7_sepconv3\", \"trainable\": false, \"dtype\": \"float32\", \"filters\": 728, \"kernel_size\": [3, 3], \"strides\": [1, 1], \"padding\": \"same\", \"data_format\": \"channels_last\", \"dilation_rate\": [1, 1], \"groups\": 1, \"activation\": \"linear\", \"use_bias\": false, \"kernel_initializer\": {\"class_name\": \"GlorotUniform\", \"config\": {\"seed\": null}}, \"bias_initializer\": {\"class_name\": \"Zeros\", \"config\": {}, \"shared_object_id\": 208}, \"kernel_regularizer\": null, \"bias_regularizer\": null, \"activity_regularizer\": null, \"kernel_constraint\": null, \"bias_constraint\": null, \"depth_multiplier\": 1, \"depthwise_initializer\": {\"class_name\": \"GlorotUniform\", \"config\": {\"seed\": null}}, \"pointwise_initializer\": {\"class_name\": \"GlorotUniform\", \"config\": {\"seed\": null}}, \"depthwise_regularizer\": null, \"pointwise_regularizer\": null, \"depthwise_constraint\": null, \"pointwise_constraint\": null}, \"name\": \"block7_sepconv3\", \"inbound_nodes\": [[[\"block7_sepconv3_act\", 0, 0, {}]]]}, {\"class_name\": \"BatchNormalization\", \"config\": {\"name\": \"block7_sepconv3_bn\", \"trainable\": false, \"dtype\": \"float32\", \"axis\": [3], \"momentum\": 0.99, \"epsilon\": 0.001, \"center\": true, \"scale\": true, \"beta_initializer\": {\"class_name\": \"Zeros\", \"config\": {}}, \"gamma_initializer\": {\"class_name\": \"Ones\", \"config\": {}}, \"moving_mean_initializer\": {\"class_name\": \"Zeros\", \"config\": {}}, \"moving_variance_initializer\": {\"class_name\": \"Ones\", \"config\": {}}, \"beta_regularizer\": null, \"gamma_regularizer\": null, \"beta_constraint\": null, \"gamma_constraint\": null}, \"name\": \"block7_sepconv3_bn\", \"inbound_nodes\": [[[\"block7_sepconv3\", 0, 0, {}]]]}, {\"class_name\": \"Add\", \"config\": {\"name\": \"add_5\", \"trainable\": false, \"dtype\": \"float32\"}, \"name\": \"add_5\", \"inbound_nodes\": [[[\"block7_sepconv3_bn\", 0, 0, {}], [\"add_4\", 0, 0, {}]]]}, {\"class_name\": \"Activation\", \"config\": {\"name\": \"block8_sepconv1_act\", \"trainable\": false, \"dtype\": \"float32\", \"activation\": \"relu\"}, \"name\": \"block8_sepconv1_act\", \"inbound_nodes\": [[[\"add_5\", 0, 0, {}]]]}, {\"class_name\": \"SeparableConv2D\", \"config\": {\"name\": \"block8_sepconv1\", \"trainable\": false, \"dtype\": \"float32\", \"filters\": 728, \"kernel_size\": [3, 3], \"strides\": [1, 1], \"padding\": \"same\", \"data_format\": \"channels_last\", \"dilation_rate\": [1, 1], \"groups\": 1, \"activation\": \"linear\", \"use_bias\": false, \"kernel_initializer\": {\"class_name\": \"GlorotUniform\", \"config\": {\"seed\": null}}, \"bias_initializer\": {\"class_name\": \"Zeros\", \"config\": {}, \"shared_object_id\": 220}, \"kernel_regularizer\": null, \"bias_regularizer\": null, \"activity_regularizer\": null, \"kernel_constraint\": null, \"bias_constraint\": null, \"depth_multiplier\": 1, \"depthwise_initializer\": {\"class_name\": \"GlorotUniform\", \"config\": {\"seed\": null}}, \"pointwise_initializer\": {\"class_name\": \"GlorotUniform\", \"config\": {\"seed\": null}}, \"depthwise_regularizer\": null, \"pointwise_regularizer\": null, \"depthwise_constraint\": null, \"pointwise_constraint\": null}, \"name\": \"block8_sepconv1\", \"inbound_nodes\": [[[\"block8_sepconv1_act\", 0, 0, {}]]]}, {\"class_name\": \"BatchNormalization\", \"config\": {\"name\": \"block8_sepconv1_bn\", \"trainable\": false, \"dtype\": \"float32\", \"axis\": [3], \"momentum\": 0.99, \"epsilon\": 0.001, \"center\": true, \"scale\": true, \"beta_initializer\": {\"class_name\": \"Zeros\", \"config\": {}}, \"gamma_initializer\": {\"class_name\": \"Ones\", \"config\": {}}, \"moving_mean_initializer\": {\"class_name\": \"Zeros\", \"config\": {}}, \"moving_variance_initializer\": {\"class_name\": \"Ones\", \"config\": {}}, \"beta_regularizer\": null, \"gamma_regularizer\": null, \"beta_constraint\": null, \"gamma_constraint\": null}, \"name\": \"block8_sepconv1_bn\", \"inbound_nodes\": [[[\"block8_sepconv1\", 0, 0, {}]]]}, {\"class_name\": \"Activation\", \"config\": {\"name\": \"block8_sepconv2_act\", \"trainable\": false, \"dtype\": \"float32\", \"activation\": \"relu\"}, \"name\": \"block8_sepconv2_act\", \"inbound_nodes\": [[[\"block8_sepconv1_bn\", 0, 0, {}]]]}, {\"class_name\": \"SeparableConv2D\", \"config\": {\"name\": \"block8_sepconv2\", \"trainable\": false, \"dtype\": \"float32\", \"filters\": 728, \"kernel_size\": [3, 3], \"strides\": [1, 1], \"padding\": \"same\", \"data_format\": \"channels_last\", \"dilation_rate\": [1, 1], \"groups\": 1, \"activation\": \"linear\", \"use_bias\": false, \"kernel_initializer\": {\"class_name\": \"GlorotUniform\", \"config\": {\"seed\": null}}, \"bias_initializer\": {\"class_name\": \"Zeros\", \"config\": {}, \"shared_object_id\": 231}, \"kernel_regularizer\": null, \"bias_regularizer\": null, \"activity_regularizer\": null, \"kernel_constraint\": null, \"bias_constraint\": null, \"depth_multiplier\": 1, \"depthwise_initializer\": {\"class_name\": \"GlorotUniform\", \"config\": {\"seed\": null}}, \"pointwise_initializer\": {\"class_name\": \"GlorotUniform\", \"config\": {\"seed\": null}}, \"depthwise_regularizer\": null, \"pointwise_regularizer\": null, \"depthwise_constraint\": null, \"pointwise_constraint\": null}, \"name\": \"block8_sepconv2\", \"inbound_nodes\": [[[\"block8_sepconv2_act\", 0, 0, {}]]]}, {\"class_name\": \"BatchNormalization\", \"config\": {\"name\": \"block8_sepconv2_bn\", \"trainable\": false, \"dtype\": \"float32\", \"axis\": [3], \"momentum\": 0.99, \"epsilon\": 0.001, \"center\": true, \"scale\": true, \"beta_initializer\": {\"class_name\": \"Zeros\", \"config\": {}}, \"gamma_initializer\": {\"class_name\": \"Ones\", \"config\": {}}, \"moving_mean_initializer\": {\"class_name\": \"Zeros\", \"config\": {}}, \"moving_variance_initializer\": {\"class_name\": \"Ones\", \"config\": {}}, \"beta_regularizer\": null, \"gamma_regularizer\": null, \"beta_constraint\": null, \"gamma_constraint\": null}, \"name\": \"block8_sepconv2_bn\", \"inbound_nodes\": [[[\"block8_sepconv2\", 0, 0, {}]]]}, {\"class_name\": \"Activation\", \"config\": {\"name\": \"block8_sepconv3_act\", \"trainable\": false, \"dtype\": \"float32\", \"activation\": \"relu\"}, \"name\": \"block8_sepconv3_act\", \"inbound_nodes\": [[[\"block8_sepconv2_bn\", 0, 0, {}]]]}, {\"class_name\": \"SeparableConv2D\", \"config\": {\"name\": \"block8_sepconv3\", \"trainable\": false, \"dtype\": \"float32\", \"filters\": 728, \"kernel_size\": [3, 3], \"strides\": [1, 1], \"padding\": \"same\", \"data_format\": \"channels_last\", \"dilation_rate\": [1, 1], \"groups\": 1, \"activation\": \"linear\", \"use_bias\": false, \"kernel_initializer\": {\"class_name\": \"GlorotUniform\", \"config\": {\"seed\": null}}, \"bias_initializer\": {\"class_name\": \"Zeros\", \"config\": {}, \"shared_object_id\": 242}, \"kernel_regularizer\": null, \"bias_regularizer\": null, \"activity_regularizer\": null, \"kernel_constraint\": null, \"bias_constraint\": null, \"depth_multiplier\": 1, \"depthwise_initializer\": {\"class_name\": \"GlorotUniform\", \"config\": {\"seed\": null}}, \"pointwise_initializer\": {\"class_name\": \"GlorotUniform\", \"config\": {\"seed\": null}}, \"depthwise_regularizer\": null, \"pointwise_regularizer\": null, \"depthwise_constraint\": null, \"pointwise_constraint\": null}, \"name\": \"block8_sepconv3\", \"inbound_nodes\": [[[\"block8_sepconv3_act\", 0, 0, {}]]]}, {\"class_name\": \"BatchNormalization\", \"config\": {\"name\": \"block8_sepconv3_bn\", \"trainable\": false, \"dtype\": \"float32\", \"axis\": [3], \"momentum\": 0.99, \"epsilon\": 0.001, \"center\": true, \"scale\": true, \"beta_initializer\": {\"class_name\": \"Zeros\", \"config\": {}}, \"gamma_initializer\": {\"class_name\": \"Ones\", \"config\": {}}, \"moving_mean_initializer\": {\"class_name\": \"Zeros\", \"config\": {}}, \"moving_variance_initializer\": {\"class_name\": \"Ones\", \"config\": {}}, \"beta_regularizer\": null, \"gamma_regularizer\": null, \"beta_constraint\": null, \"gamma_constraint\": null}, \"name\": \"block8_sepconv3_bn\", \"inbound_nodes\": [[[\"block8_sepconv3\", 0, 0, {}]]]}, {\"class_name\": \"Add\", \"config\": {\"name\": \"add_6\", \"trainable\": false, \"dtype\": \"float32\"}, \"name\": \"add_6\", \"inbound_nodes\": [[[\"block8_sepconv3_bn\", 0, 0, {}], [\"add_5\", 0, 0, {}]]]}, {\"class_name\": \"Activation\", \"config\": {\"name\": \"block9_sepconv1_act\", \"trainable\": false, \"dtype\": \"float32\", \"activation\": \"relu\"}, \"name\": \"block9_sepconv1_act\", \"inbound_nodes\": [[[\"add_6\", 0, 0, {}]]]}, {\"class_name\": \"SeparableConv2D\", \"config\": {\"name\": \"block9_sepconv1\", \"trainable\": false, \"dtype\": \"float32\", \"filters\": 728, \"kernel_size\": [3, 3], \"strides\": [1, 1], \"padding\": \"same\", \"data_format\": \"channels_last\", \"dilation_rate\": [1, 1], \"groups\": 1, \"activation\": \"linear\", \"use_bias\": false, \"kernel_initializer\": {\"class_name\": \"GlorotUniform\", \"config\": {\"seed\": null}}, \"bias_initializer\": {\"class_name\": \"Zeros\", \"config\": {}, \"shared_object_id\": 254}, \"kernel_regularizer\": null, \"bias_regularizer\": null, \"activity_regularizer\": null, \"kernel_constraint\": null, \"bias_constraint\": null, \"depth_multiplier\": 1, \"depthwise_initializer\": {\"class_name\": \"GlorotUniform\", \"config\": {\"seed\": null}}, \"pointwise_initializer\": {\"class_name\": \"GlorotUniform\", \"config\": {\"seed\": null}}, \"depthwise_regularizer\": null, \"pointwise_regularizer\": null, \"depthwise_constraint\": null, \"pointwise_constraint\": null}, \"name\": \"block9_sepconv1\", \"inbound_nodes\": [[[\"block9_sepconv1_act\", 0, 0, {}]]]}, {\"class_name\": \"BatchNormalization\", \"config\": {\"name\": \"block9_sepconv1_bn\", \"trainable\": false, \"dtype\": \"float32\", \"axis\": [3], \"momentum\": 0.99, \"epsilon\": 0.001, \"center\": true, \"scale\": true, \"beta_initializer\": {\"class_name\": \"Zeros\", \"config\": {}}, \"gamma_initializer\": {\"class_name\": \"Ones\", \"config\": {}}, \"moving_mean_initializer\": {\"class_name\": \"Zeros\", \"config\": {}}, \"moving_variance_initializer\": {\"class_name\": \"Ones\", \"config\": {}}, \"beta_regularizer\": null, \"gamma_regularizer\": null, \"beta_constraint\": null, \"gamma_constraint\": null}, \"name\": \"block9_sepconv1_bn\", \"inbound_nodes\": [[[\"block9_sepconv1\", 0, 0, {}]]]}, {\"class_name\": \"Activation\", \"config\": {\"name\": \"block9_sepconv2_act\", \"trainable\": false, \"dtype\": \"float32\", \"activation\": \"relu\"}, \"name\": \"block9_sepconv2_act\", \"inbound_nodes\": [[[\"block9_sepconv1_bn\", 0, 0, {}]]]}, {\"class_name\": \"SeparableConv2D\", \"config\": {\"name\": \"block9_sepconv2\", \"trainable\": false, \"dtype\": \"float32\", \"filters\": 728, \"kernel_size\": [3, 3], \"strides\": [1, 1], \"padding\": \"same\", \"data_format\": \"channels_last\", \"dilation_rate\": [1, 1], \"groups\": 1, \"activation\": \"linear\", \"use_bias\": false, \"kernel_initializer\": {\"class_name\": \"GlorotUniform\", \"config\": {\"seed\": null}}, \"bias_initializer\": {\"class_name\": \"Zeros\", \"config\": {}, \"shared_object_id\": 265}, \"kernel_regularizer\": null, \"bias_regularizer\": null, \"activity_regularizer\": null, \"kernel_constraint\": null, \"bias_constraint\": null, \"depth_multiplier\": 1, \"depthwise_initializer\": {\"class_name\": \"GlorotUniform\", \"config\": {\"seed\": null}}, \"pointwise_initializer\": {\"class_name\": \"GlorotUniform\", \"config\": {\"seed\": null}}, \"depthwise_regularizer\": null, \"pointwise_regularizer\": null, \"depthwise_constraint\": null, \"pointwise_constraint\": null}, \"name\": \"block9_sepconv2\", \"inbound_nodes\": [[[\"block9_sepconv2_act\", 0, 0, {}]]]}, {\"class_name\": \"BatchNormalization\", \"config\": {\"name\": \"block9_sepconv2_bn\", \"trainable\": false, \"dtype\": \"float32\", \"axis\": [3], \"momentum\": 0.99, \"epsilon\": 0.001, \"center\": true, \"scale\": true, \"beta_initializer\": {\"class_name\": \"Zeros\", \"config\": {}}, \"gamma_initializer\": {\"class_name\": \"Ones\", \"config\": {}}, \"moving_mean_initializer\": {\"class_name\": \"Zeros\", \"config\": {}}, \"moving_variance_initializer\": {\"class_name\": \"Ones\", \"config\": {}}, \"beta_regularizer\": null, \"gamma_regularizer\": null, \"beta_constraint\": null, \"gamma_constraint\": null}, \"name\": \"block9_sepconv2_bn\", \"inbound_nodes\": [[[\"block9_sepconv2\", 0, 0, {}]]]}, {\"class_name\": \"Activation\", \"config\": {\"name\": \"block9_sepconv3_act\", \"trainable\": false, \"dtype\": \"float32\", \"activation\": \"relu\"}, \"name\": \"block9_sepconv3_act\", \"inbound_nodes\": [[[\"block9_sepconv2_bn\", 0, 0, {}]]]}, {\"class_name\": \"SeparableConv2D\", \"config\": {\"name\": \"block9_sepconv3\", \"trainable\": false, \"dtype\": \"float32\", \"filters\": 728, \"kernel_size\": [3, 3], \"strides\": [1, 1], \"padding\": \"same\", \"data_format\": \"channels_last\", \"dilation_rate\": [1, 1], \"groups\": 1, \"activation\": \"linear\", \"use_bias\": false, \"kernel_initializer\": {\"class_name\": \"GlorotUniform\", \"config\": {\"seed\": null}}, \"bias_initializer\": {\"class_name\": \"Zeros\", \"config\": {}, \"shared_object_id\": 276}, \"kernel_regularizer\": null, \"bias_regularizer\": null, \"activity_regularizer\": null, \"kernel_constraint\": null, \"bias_constraint\": null, \"depth_multiplier\": 1, \"depthwise_initializer\": {\"class_name\": \"GlorotUniform\", \"config\": {\"seed\": null}}, \"pointwise_initializer\": {\"class_name\": \"GlorotUniform\", \"config\": {\"seed\": null}}, \"depthwise_regularizer\": null, \"pointwise_regularizer\": null, \"depthwise_constraint\": null, \"pointwise_constraint\": null}, \"name\": \"block9_sepconv3\", \"inbound_nodes\": [[[\"block9_sepconv3_act\", 0, 0, {}]]]}, {\"class_name\": \"BatchNormalization\", \"config\": {\"name\": \"block9_sepconv3_bn\", \"trainable\": false, \"dtype\": \"float32\", \"axis\": [3], \"momentum\": 0.99, \"epsilon\": 0.001, \"center\": true, \"scale\": true, \"beta_initializer\": {\"class_name\": \"Zeros\", \"config\": {}}, \"gamma_initializer\": {\"class_name\": \"Ones\", \"config\": {}}, \"moving_mean_initializer\": {\"class_name\": \"Zeros\", \"config\": {}}, \"moving_variance_initializer\": {\"class_name\": \"Ones\", \"config\": {}}, \"beta_regularizer\": null, \"gamma_regularizer\": null, \"beta_constraint\": null, \"gamma_constraint\": null}, \"name\": \"block9_sepconv3_bn\", \"inbound_nodes\": [[[\"block9_sepconv3\", 0, 0, {}]]]}, {\"class_name\": \"Add\", \"config\": {\"name\": \"add_7\", \"trainable\": false, \"dtype\": \"float32\"}, \"name\": \"add_7\", \"inbound_nodes\": [[[\"block9_sepconv3_bn\", 0, 0, {}], [\"add_6\", 0, 0, {}]]]}, {\"class_name\": \"Activation\", \"config\": {\"name\": \"block10_sepconv1_act\", \"trainable\": false, \"dtype\": \"float32\", \"activation\": \"relu\"}, \"name\": \"block10_sepconv1_act\", \"inbound_nodes\": [[[\"add_7\", 0, 0, {}]]]}, {\"class_name\": \"SeparableConv2D\", \"config\": {\"name\": \"block10_sepconv1\", \"trainable\": false, \"dtype\": \"float32\", \"filters\": 728, \"kernel_size\": [3, 3], \"strides\": [1, 1], \"padding\": \"same\", \"data_format\": \"channels_last\", \"dilation_rate\": [1, 1], \"groups\": 1, \"activation\": \"linear\", \"use_bias\": false, \"kernel_initializer\": {\"class_name\": \"GlorotUniform\", \"config\": {\"seed\": null}}, \"bias_initializer\": {\"class_name\": \"Zeros\", \"config\": {}, \"shared_object_id\": 288}, \"kernel_regularizer\": null, \"bias_regularizer\": null, \"activity_regularizer\": null, \"kernel_constraint\": null, \"bias_constraint\": null, \"depth_multiplier\": 1, \"depthwise_initializer\": {\"class_name\": \"GlorotUniform\", \"config\": {\"seed\": null}}, \"pointwise_initializer\": {\"class_name\": \"GlorotUniform\", \"config\": {\"seed\": null}}, \"depthwise_regularizer\": null, \"pointwise_regularizer\": null, \"depthwise_constraint\": null, \"pointwise_constraint\": null}, \"name\": \"block10_sepconv1\", \"inbound_nodes\": [[[\"block10_sepconv1_act\", 0, 0, {}]]]}, {\"class_name\": \"BatchNormalization\", \"config\": {\"name\": \"block10_sepconv1_bn\", \"trainable\": false, \"dtype\": \"float32\", \"axis\": [3], \"momentum\": 0.99, \"epsilon\": 0.001, \"center\": true, \"scale\": true, \"beta_initializer\": {\"class_name\": \"Zeros\", \"config\": {}}, \"gamma_initializer\": {\"class_name\": \"Ones\", \"config\": {}}, \"moving_mean_initializer\": {\"class_name\": \"Zeros\", \"config\": {}}, \"moving_variance_initializer\": {\"class_name\": \"Ones\", \"config\": {}}, \"beta_regularizer\": null, \"gamma_regularizer\": null, \"beta_constraint\": null, \"gamma_constraint\": null}, \"name\": \"block10_sepconv1_bn\", \"inbound_nodes\": [[[\"block10_sepconv1\", 0, 0, {}]]]}, {\"class_name\": \"Activation\", \"config\": {\"name\": \"block10_sepconv2_act\", \"trainable\": false, \"dtype\": \"float32\", \"activation\": \"relu\"}, \"name\": \"block10_sepconv2_act\", \"inbound_nodes\": [[[\"block10_sepconv1_bn\", 0, 0, {}]]]}, {\"class_name\": \"SeparableConv2D\", \"config\": {\"name\": \"block10_sepconv2\", \"trainable\": false, \"dtype\": \"float32\", \"filters\": 728, \"kernel_size\": [3, 3], \"strides\": [1, 1], \"padding\": \"same\", \"data_format\": \"channels_last\", \"dilation_rate\": [1, 1], \"groups\": 1, \"activation\": \"linear\", \"use_bias\": false, \"kernel_initializer\": {\"class_name\": \"GlorotUniform\", \"config\": {\"seed\": null}}, \"bias_initializer\": {\"class_name\": \"Zeros\", \"config\": {}, \"shared_object_id\": 299}, \"kernel_regularizer\": null, \"bias_regularizer\": null, \"activity_regularizer\": null, \"kernel_constraint\": null, \"bias_constraint\": null, \"depth_multiplier\": 1, \"depthwise_initializer\": {\"class_name\": \"GlorotUniform\", \"config\": {\"seed\": null}}, \"pointwise_initializer\": {\"class_name\": \"GlorotUniform\", \"config\": {\"seed\": null}}, \"depthwise_regularizer\": null, \"pointwise_regularizer\": null, \"depthwise_constraint\": null, \"pointwise_constraint\": null}, \"name\": \"block10_sepconv2\", \"inbound_nodes\": [[[\"block10_sepconv2_act\", 0, 0, {}]]]}, {\"class_name\": \"BatchNormalization\", \"config\": {\"name\": \"block10_sepconv2_bn\", \"trainable\": false, \"dtype\": \"float32\", \"axis\": [3], \"momentum\": 0.99, \"epsilon\": 0.001, \"center\": true, \"scale\": true, \"beta_initializer\": {\"class_name\": \"Zeros\", \"config\": {}}, \"gamma_initializer\": {\"class_name\": \"Ones\", \"config\": {}}, \"moving_mean_initializer\": {\"class_name\": \"Zeros\", \"config\": {}}, \"moving_variance_initializer\": {\"class_name\": \"Ones\", \"config\": {}}, \"beta_regularizer\": null, \"gamma_regularizer\": null, \"beta_constraint\": null, \"gamma_constraint\": null}, \"name\": \"block10_sepconv2_bn\", \"inbound_nodes\": [[[\"block10_sepconv2\", 0, 0, {}]]]}, {\"class_name\": \"Activation\", \"config\": {\"name\": \"block10_sepconv3_act\", \"trainable\": false, \"dtype\": \"float32\", \"activation\": \"relu\"}, \"name\": \"block10_sepconv3_act\", \"inbound_nodes\": [[[\"block10_sepconv2_bn\", 0, 0, {}]]]}, {\"class_name\": \"SeparableConv2D\", \"config\": {\"name\": \"block10_sepconv3\", \"trainable\": false, \"dtype\": \"float32\", \"filters\": 728, \"kernel_size\": [3, 3], \"strides\": [1, 1], \"padding\": \"same\", \"data_format\": \"channels_last\", \"dilation_rate\": [1, 1], \"groups\": 1, \"activation\": \"linear\", \"use_bias\": false, \"kernel_initializer\": {\"class_name\": \"GlorotUniform\", \"config\": {\"seed\": null}}, \"bias_initializer\": {\"class_name\": \"Zeros\", \"config\": {}, \"shared_object_id\": 310}, \"kernel_regularizer\": null, \"bias_regularizer\": null, \"activity_regularizer\": null, \"kernel_constraint\": null, \"bias_constraint\": null, \"depth_multiplier\": 1, \"depthwise_initializer\": {\"class_name\": \"GlorotUniform\", \"config\": {\"seed\": null}}, \"pointwise_initializer\": {\"class_name\": \"GlorotUniform\", \"config\": {\"seed\": null}}, \"depthwise_regularizer\": null, \"pointwise_regularizer\": null, \"depthwise_constraint\": null, \"pointwise_constraint\": null}, \"name\": \"block10_sepconv3\", \"inbound_nodes\": [[[\"block10_sepconv3_act\", 0, 0, {}]]]}, {\"class_name\": \"BatchNormalization\", \"config\": {\"name\": \"block10_sepconv3_bn\", \"trainable\": false, \"dtype\": \"float32\", \"axis\": [3], \"momentum\": 0.99, \"epsilon\": 0.001, \"center\": true, \"scale\": true, \"beta_initializer\": {\"class_name\": \"Zeros\", \"config\": {}}, \"gamma_initializer\": {\"class_name\": \"Ones\", \"config\": {}}, \"moving_mean_initializer\": {\"class_name\": \"Zeros\", \"config\": {}}, \"moving_variance_initializer\": {\"class_name\": \"Ones\", \"config\": {}}, \"beta_regularizer\": null, \"gamma_regularizer\": null, \"beta_constraint\": null, \"gamma_constraint\": null}, \"name\": \"block10_sepconv3_bn\", \"inbound_nodes\": [[[\"block10_sepconv3\", 0, 0, {}]]]}, {\"class_name\": \"Add\", \"config\": {\"name\": \"add_8\", \"trainable\": false, \"dtype\": \"float32\"}, \"name\": \"add_8\", \"inbound_nodes\": [[[\"block10_sepconv3_bn\", 0, 0, {}], [\"add_7\", 0, 0, {}]]]}, {\"class_name\": \"Activation\", \"config\": {\"name\": \"block11_sepconv1_act\", \"trainable\": false, \"dtype\": \"float32\", \"activation\": \"relu\"}, \"name\": \"block11_sepconv1_act\", \"inbound_nodes\": [[[\"add_8\", 0, 0, {}]]]}, {\"class_name\": \"SeparableConv2D\", \"config\": {\"name\": \"block11_sepconv1\", \"trainable\": false, \"dtype\": \"float32\", \"filters\": 728, \"kernel_size\": [3, 3], \"strides\": [1, 1], \"padding\": \"same\", \"data_format\": \"channels_last\", \"dilation_rate\": [1, 1], \"groups\": 1, \"activation\": \"linear\", \"use_bias\": false, \"kernel_initializer\": {\"class_name\": \"GlorotUniform\", \"config\": {\"seed\": null}}, \"bias_initializer\": {\"class_name\": \"Zeros\", \"config\": {}, \"shared_object_id\": 322}, \"kernel_regularizer\": null, \"bias_regularizer\": null, \"activity_regularizer\": null, \"kernel_constraint\": null, \"bias_constraint\": null, \"depth_multiplier\": 1, \"depthwise_initializer\": {\"class_name\": \"GlorotUniform\", \"config\": {\"seed\": null}}, \"pointwise_initializer\": {\"class_name\": \"GlorotUniform\", \"config\": {\"seed\": null}}, \"depthwise_regularizer\": null, \"pointwise_regularizer\": null, \"depthwise_constraint\": null, \"pointwise_constraint\": null}, \"name\": \"block11_sepconv1\", \"inbound_nodes\": [[[\"block11_sepconv1_act\", 0, 0, {}]]]}, {\"class_name\": \"BatchNormalization\", \"config\": {\"name\": \"block11_sepconv1_bn\", \"trainable\": false, \"dtype\": \"float32\", \"axis\": [3], \"momentum\": 0.99, \"epsilon\": 0.001, \"center\": true, \"scale\": true, \"beta_initializer\": {\"class_name\": \"Zeros\", \"config\": {}}, \"gamma_initializer\": {\"class_name\": \"Ones\", \"config\": {}}, \"moving_mean_initializer\": {\"class_name\": \"Zeros\", \"config\": {}}, \"moving_variance_initializer\": {\"class_name\": \"Ones\", \"config\": {}}, \"beta_regularizer\": null, \"gamma_regularizer\": null, \"beta_constraint\": null, \"gamma_constraint\": null}, \"name\": \"block11_sepconv1_bn\", \"inbound_nodes\": [[[\"block11_sepconv1\", 0, 0, {}]]]}, {\"class_name\": \"Activation\", \"config\": {\"name\": \"block11_sepconv2_act\", \"trainable\": false, \"dtype\": \"float32\", \"activation\": \"relu\"}, \"name\": \"block11_sepconv2_act\", \"inbound_nodes\": [[[\"block11_sepconv1_bn\", 0, 0, {}]]]}, {\"class_name\": \"SeparableConv2D\", \"config\": {\"name\": \"block11_sepconv2\", \"trainable\": false, \"dtype\": \"float32\", \"filters\": 728, \"kernel_size\": [3, 3], \"strides\": [1, 1], \"padding\": \"same\", \"data_format\": \"channels_last\", \"dilation_rate\": [1, 1], \"groups\": 1, \"activation\": \"linear\", \"use_bias\": false, \"kernel_initializer\": {\"class_name\": \"GlorotUniform\", \"config\": {\"seed\": null}}, \"bias_initializer\": {\"class_name\": \"Zeros\", \"config\": {}, \"shared_object_id\": 333}, \"kernel_regularizer\": null, \"bias_regularizer\": null, \"activity_regularizer\": null, \"kernel_constraint\": null, \"bias_constraint\": null, \"depth_multiplier\": 1, \"depthwise_initializer\": {\"class_name\": \"GlorotUniform\", \"config\": {\"seed\": null}}, \"pointwise_initializer\": {\"class_name\": \"GlorotUniform\", \"config\": {\"seed\": null}}, \"depthwise_regularizer\": null, \"pointwise_regularizer\": null, \"depthwise_constraint\": null, \"pointwise_constraint\": null}, \"name\": \"block11_sepconv2\", \"inbound_nodes\": [[[\"block11_sepconv2_act\", 0, 0, {}]]]}, {\"class_name\": \"BatchNormalization\", \"config\": {\"name\": \"block11_sepconv2_bn\", \"trainable\": false, \"dtype\": \"float32\", \"axis\": [3], \"momentum\": 0.99, \"epsilon\": 0.001, \"center\": true, \"scale\": true, \"beta_initializer\": {\"class_name\": \"Zeros\", \"config\": {}}, \"gamma_initializer\": {\"class_name\": \"Ones\", \"config\": {}}, \"moving_mean_initializer\": {\"class_name\": \"Zeros\", \"config\": {}}, \"moving_variance_initializer\": {\"class_name\": \"Ones\", \"config\": {}}, \"beta_regularizer\": null, \"gamma_regularizer\": null, \"beta_constraint\": null, \"gamma_constraint\": null}, \"name\": \"block11_sepconv2_bn\", \"inbound_nodes\": [[[\"block11_sepconv2\", 0, 0, {}]]]}, {\"class_name\": \"Activation\", \"config\": {\"name\": \"block11_sepconv3_act\", \"trainable\": false, \"dtype\": \"float32\", \"activation\": \"relu\"}, \"name\": \"block11_sepconv3_act\", \"inbound_nodes\": [[[\"block11_sepconv2_bn\", 0, 0, {}]]]}, {\"class_name\": \"SeparableConv2D\", \"config\": {\"name\": \"block11_sepconv3\", \"trainable\": false, \"dtype\": \"float32\", \"filters\": 728, \"kernel_size\": [3, 3], \"strides\": [1, 1], \"padding\": \"same\", \"data_format\": \"channels_last\", \"dilation_rate\": [1, 1], \"groups\": 1, \"activation\": \"linear\", \"use_bias\": false, \"kernel_initializer\": {\"class_name\": \"GlorotUniform\", \"config\": {\"seed\": null}}, \"bias_initializer\": {\"class_name\": \"Zeros\", \"config\": {}, \"shared_object_id\": 344}, \"kernel_regularizer\": null, \"bias_regularizer\": null, \"activity_regularizer\": null, \"kernel_constraint\": null, \"bias_constraint\": null, \"depth_multiplier\": 1, \"depthwise_initializer\": {\"class_name\": \"GlorotUniform\", \"config\": {\"seed\": null}}, \"pointwise_initializer\": {\"class_name\": \"GlorotUniform\", \"config\": {\"seed\": null}}, \"depthwise_regularizer\": null, \"pointwise_regularizer\": null, \"depthwise_constraint\": null, \"pointwise_constraint\": null}, \"name\": \"block11_sepconv3\", \"inbound_nodes\": [[[\"block11_sepconv3_act\", 0, 0, {}]]]}, {\"class_name\": \"BatchNormalization\", \"config\": {\"name\": \"block11_sepconv3_bn\", \"trainable\": false, \"dtype\": \"float32\", \"axis\": [3], \"momentum\": 0.99, \"epsilon\": 0.001, \"center\": true, \"scale\": true, \"beta_initializer\": {\"class_name\": \"Zeros\", \"config\": {}}, \"gamma_initializer\": {\"class_name\": \"Ones\", \"config\": {}}, \"moving_mean_initializer\": {\"class_name\": \"Zeros\", \"config\": {}}, \"moving_variance_initializer\": {\"class_name\": \"Ones\", \"config\": {}}, \"beta_regularizer\": null, \"gamma_regularizer\": null, \"beta_constraint\": null, \"gamma_constraint\": null}, \"name\": \"block11_sepconv3_bn\", \"inbound_nodes\": [[[\"block11_sepconv3\", 0, 0, {}]]]}, {\"class_name\": \"Add\", \"config\": {\"name\": \"add_9\", \"trainable\": false, \"dtype\": \"float32\"}, \"name\": \"add_9\", \"inbound_nodes\": [[[\"block11_sepconv3_bn\", 0, 0, {}], [\"add_8\", 0, 0, {}]]]}, {\"class_name\": \"Activation\", \"config\": {\"name\": \"block12_sepconv1_act\", \"trainable\": false, \"dtype\": \"float32\", \"activation\": \"relu\"}, \"name\": \"block12_sepconv1_act\", \"inbound_nodes\": [[[\"add_9\", 0, 0, {}]]]}, {\"class_name\": \"SeparableConv2D\", \"config\": {\"name\": \"block12_sepconv1\", \"trainable\": false, \"dtype\": \"float32\", \"filters\": 728, \"kernel_size\": [3, 3], \"strides\": [1, 1], \"padding\": \"same\", \"data_format\": \"channels_last\", \"dilation_rate\": [1, 1], \"groups\": 1, \"activation\": \"linear\", \"use_bias\": false, \"kernel_initializer\": {\"class_name\": \"GlorotUniform\", \"config\": {\"seed\": null}}, \"bias_initializer\": {\"class_name\": \"Zeros\", \"config\": {}, \"shared_object_id\": 356}, \"kernel_regularizer\": null, \"bias_regularizer\": null, \"activity_regularizer\": null, \"kernel_constraint\": null, \"bias_constraint\": null, \"depth_multiplier\": 1, \"depthwise_initializer\": {\"class_name\": \"GlorotUniform\", \"config\": {\"seed\": null}}, \"pointwise_initializer\": {\"class_name\": \"GlorotUniform\", \"config\": {\"seed\": null}}, \"depthwise_regularizer\": null, \"pointwise_regularizer\": null, \"depthwise_constraint\": null, \"pointwise_constraint\": null}, \"name\": \"block12_sepconv1\", \"inbound_nodes\": [[[\"block12_sepconv1_act\", 0, 0, {}]]]}, {\"class_name\": \"BatchNormalization\", \"config\": {\"name\": \"block12_sepconv1_bn\", \"trainable\": false, \"dtype\": \"float32\", \"axis\": [3], \"momentum\": 0.99, \"epsilon\": 0.001, \"center\": true, \"scale\": true, \"beta_initializer\": {\"class_name\": \"Zeros\", \"config\": {}}, \"gamma_initializer\": {\"class_name\": \"Ones\", \"config\": {}}, \"moving_mean_initializer\": {\"class_name\": \"Zeros\", \"config\": {}}, \"moving_variance_initializer\": {\"class_name\": \"Ones\", \"config\": {}}, \"beta_regularizer\": null, \"gamma_regularizer\": null, \"beta_constraint\": null, \"gamma_constraint\": null}, \"name\": \"block12_sepconv1_bn\", \"inbound_nodes\": [[[\"block12_sepconv1\", 0, 0, {}]]]}, {\"class_name\": \"Activation\", \"config\": {\"name\": \"block12_sepconv2_act\", \"trainable\": false, \"dtype\": \"float32\", \"activation\": \"relu\"}, \"name\": \"block12_sepconv2_act\", \"inbound_nodes\": [[[\"block12_sepconv1_bn\", 0, 0, {}]]]}, {\"class_name\": \"SeparableConv2D\", \"config\": {\"name\": \"block12_sepconv2\", \"trainable\": false, \"dtype\": \"float32\", \"filters\": 728, \"kernel_size\": [3, 3], \"strides\": [1, 1], \"padding\": \"same\", \"data_format\": \"channels_last\", \"dilation_rate\": [1, 1], \"groups\": 1, \"activation\": \"linear\", \"use_bias\": false, \"kernel_initializer\": {\"class_name\": \"GlorotUniform\", \"config\": {\"seed\": null}}, \"bias_initializer\": {\"class_name\": \"Zeros\", \"config\": {}, \"shared_object_id\": 367}, \"kernel_regularizer\": null, \"bias_regularizer\": null, \"activity_regularizer\": null, \"kernel_constraint\": null, \"bias_constraint\": null, \"depth_multiplier\": 1, \"depthwise_initializer\": {\"class_name\": \"GlorotUniform\", \"config\": {\"seed\": null}}, \"pointwise_initializer\": {\"class_name\": \"GlorotUniform\", \"config\": {\"seed\": null}}, \"depthwise_regularizer\": null, \"pointwise_regularizer\": null, \"depthwise_constraint\": null, \"pointwise_constraint\": null}, \"name\": \"block12_sepconv2\", \"inbound_nodes\": [[[\"block12_sepconv2_act\", 0, 0, {}]]]}, {\"class_name\": \"BatchNormalization\", \"config\": {\"name\": \"block12_sepconv2_bn\", \"trainable\": false, \"dtype\": \"float32\", \"axis\": [3], \"momentum\": 0.99, \"epsilon\": 0.001, \"center\": true, \"scale\": true, \"beta_initializer\": {\"class_name\": \"Zeros\", \"config\": {}}, \"gamma_initializer\": {\"class_name\": \"Ones\", \"config\": {}}, \"moving_mean_initializer\": {\"class_name\": \"Zeros\", \"config\": {}}, \"moving_variance_initializer\": {\"class_name\": \"Ones\", \"config\": {}}, \"beta_regularizer\": null, \"gamma_regularizer\": null, \"beta_constraint\": null, \"gamma_constraint\": null}, \"name\": \"block12_sepconv2_bn\", \"inbound_nodes\": [[[\"block12_sepconv2\", 0, 0, {}]]]}, {\"class_name\": \"Activation\", \"config\": {\"name\": \"block12_sepconv3_act\", \"trainable\": false, \"dtype\": \"float32\", \"activation\": \"relu\"}, \"name\": \"block12_sepconv3_act\", \"inbound_nodes\": [[[\"block12_sepconv2_bn\", 0, 0, {}]]]}, {\"class_name\": \"SeparableConv2D\", \"config\": {\"name\": \"block12_sepconv3\", \"trainable\": false, \"dtype\": \"float32\", \"filters\": 728, \"kernel_size\": [3, 3], \"strides\": [1, 1], \"padding\": \"same\", \"data_format\": \"channels_last\", \"dilation_rate\": [1, 1], \"groups\": 1, \"activation\": \"linear\", \"use_bias\": false, \"kernel_initializer\": {\"class_name\": \"GlorotUniform\", \"config\": {\"seed\": null}}, \"bias_initializer\": {\"class_name\": \"Zeros\", \"config\": {}, \"shared_object_id\": 378}, \"kernel_regularizer\": null, \"bias_regularizer\": null, \"activity_regularizer\": null, \"kernel_constraint\": null, \"bias_constraint\": null, \"depth_multiplier\": 1, \"depthwise_initializer\": {\"class_name\": \"GlorotUniform\", \"config\": {\"seed\": null}}, \"pointwise_initializer\": {\"class_name\": \"GlorotUniform\", \"config\": {\"seed\": null}}, \"depthwise_regularizer\": null, \"pointwise_regularizer\": null, \"depthwise_constraint\": null, \"pointwise_constraint\": null}, \"name\": \"block12_sepconv3\", \"inbound_nodes\": [[[\"block12_sepconv3_act\", 0, 0, {}]]]}, {\"class_name\": \"BatchNormalization\", \"config\": {\"name\": \"block12_sepconv3_bn\", \"trainable\": false, \"dtype\": \"float32\", \"axis\": [3], \"momentum\": 0.99, \"epsilon\": 0.001, \"center\": true, \"scale\": true, \"beta_initializer\": {\"class_name\": \"Zeros\", \"config\": {}}, \"gamma_initializer\": {\"class_name\": \"Ones\", \"config\": {}}, \"moving_mean_initializer\": {\"class_name\": \"Zeros\", \"config\": {}}, \"moving_variance_initializer\": {\"class_name\": \"Ones\", \"config\": {}}, \"beta_regularizer\": null, \"gamma_regularizer\": null, \"beta_constraint\": null, \"gamma_constraint\": null}, \"name\": \"block12_sepconv3_bn\", \"inbound_nodes\": [[[\"block12_sepconv3\", 0, 0, {}]]]}, {\"class_name\": \"Add\", \"config\": {\"name\": \"add_10\", \"trainable\": false, \"dtype\": \"float32\"}, \"name\": \"add_10\", \"inbound_nodes\": [[[\"block12_sepconv3_bn\", 0, 0, {}], [\"add_9\", 0, 0, {}]]]}, {\"class_name\": \"Activation\", \"config\": {\"name\": \"block13_sepconv1_act\", \"trainable\": false, \"dtype\": \"float32\", \"activation\": \"relu\"}, \"name\": \"block13_sepconv1_act\", \"inbound_nodes\": [[[\"add_10\", 0, 0, {}]]]}, {\"class_name\": \"SeparableConv2D\", \"config\": {\"name\": \"block13_sepconv1\", \"trainable\": false, \"dtype\": \"float32\", \"filters\": 728, \"kernel_size\": [3, 3], \"strides\": [1, 1], \"padding\": \"same\", \"data_format\": \"channels_last\", \"dilation_rate\": [1, 1], \"groups\": 1, \"activation\": \"linear\", \"use_bias\": false, \"kernel_initializer\": {\"class_name\": \"GlorotUniform\", \"config\": {\"seed\": null}}, \"bias_initializer\": {\"class_name\": \"Zeros\", \"config\": {}, \"shared_object_id\": 390}, \"kernel_regularizer\": null, \"bias_regularizer\": null, \"activity_regularizer\": null, \"kernel_constraint\": null, \"bias_constraint\": null, \"depth_multiplier\": 1, \"depthwise_initializer\": {\"class_name\": \"GlorotUniform\", \"config\": {\"seed\": null}}, \"pointwise_initializer\": {\"class_name\": \"GlorotUniform\", \"config\": {\"seed\": null}}, \"depthwise_regularizer\": null, \"pointwise_regularizer\": null, \"depthwise_constraint\": null, \"pointwise_constraint\": null}, \"name\": \"block13_sepconv1\", \"inbound_nodes\": [[[\"block13_sepconv1_act\", 0, 0, {}]]]}, {\"class_name\": \"BatchNormalization\", \"config\": {\"name\": \"block13_sepconv1_bn\", \"trainable\": false, \"dtype\": \"float32\", \"axis\": [3], \"momentum\": 0.99, \"epsilon\": 0.001, \"center\": true, \"scale\": true, \"beta_initializer\": {\"class_name\": \"Zeros\", \"config\": {}}, \"gamma_initializer\": {\"class_name\": \"Ones\", \"config\": {}}, \"moving_mean_initializer\": {\"class_name\": \"Zeros\", \"config\": {}}, \"moving_variance_initializer\": {\"class_name\": \"Ones\", \"config\": {}}, \"beta_regularizer\": null, \"gamma_regularizer\": null, \"beta_constraint\": null, \"gamma_constraint\": null}, \"name\": \"block13_sepconv1_bn\", \"inbound_nodes\": [[[\"block13_sepconv1\", 0, 0, {}]]]}, {\"class_name\": \"Activation\", \"config\": {\"name\": \"block13_sepconv2_act\", \"trainable\": false, \"dtype\": \"float32\", \"activation\": \"relu\"}, \"name\": \"block13_sepconv2_act\", \"inbound_nodes\": [[[\"block13_sepconv1_bn\", 0, 0, {}]]]}, {\"class_name\": \"SeparableConv2D\", \"config\": {\"name\": \"block13_sepconv2\", \"trainable\": false, \"dtype\": \"float32\", \"filters\": 1024, \"kernel_size\": [3, 3], \"strides\": [1, 1], \"padding\": \"same\", \"data_format\": \"channels_last\", \"dilation_rate\": [1, 1], \"groups\": 1, \"activation\": \"linear\", \"use_bias\": false, \"kernel_initializer\": {\"class_name\": \"GlorotUniform\", \"config\": {\"seed\": null}}, \"bias_initializer\": {\"class_name\": \"Zeros\", \"config\": {}, \"shared_object_id\": 401}, \"kernel_regularizer\": null, \"bias_regularizer\": null, \"activity_regularizer\": null, \"kernel_constraint\": null, \"bias_constraint\": null, \"depth_multiplier\": 1, \"depthwise_initializer\": {\"class_name\": \"GlorotUniform\", \"config\": {\"seed\": null}}, \"pointwise_initializer\": {\"class_name\": \"GlorotUniform\", \"config\": {\"seed\": null}}, \"depthwise_regularizer\": null, \"pointwise_regularizer\": null, \"depthwise_constraint\": null, \"pointwise_constraint\": null}, \"name\": \"block13_sepconv2\", \"inbound_nodes\": [[[\"block13_sepconv2_act\", 0, 0, {}]]]}, {\"class_name\": \"BatchNormalization\", \"config\": {\"name\": \"block13_sepconv2_bn\", \"trainable\": false, \"dtype\": \"float32\", \"axis\": [3], \"momentum\": 0.99, \"epsilon\": 0.001, \"center\": true, \"scale\": true, \"beta_initializer\": {\"class_name\": \"Zeros\", \"config\": {}}, \"gamma_initializer\": {\"class_name\": \"Ones\", \"config\": {}}, \"moving_mean_initializer\": {\"class_name\": \"Zeros\", \"config\": {}}, \"moving_variance_initializer\": {\"class_name\": \"Ones\", \"config\": {}}, \"beta_regularizer\": null, \"gamma_regularizer\": null, \"beta_constraint\": null, \"gamma_constraint\": null}, \"name\": \"block13_sepconv2_bn\", \"inbound_nodes\": [[[\"block13_sepconv2\", 0, 0, {}]]]}, {\"class_name\": \"Conv2D\", \"config\": {\"name\": \"conv2d_3\", \"trainable\": false, \"dtype\": \"float32\", \"filters\": 1024, \"kernel_size\": [1, 1], \"strides\": [2, 2], \"padding\": \"same\", \"data_format\": \"channels_last\", \"dilation_rate\": [1, 1], \"groups\": 1, \"activation\": \"linear\", \"use_bias\": false, \"kernel_initializer\": {\"class_name\": \"GlorotUniform\", \"config\": {\"seed\": null}}, \"bias_initializer\": {\"class_name\": \"Zeros\", \"config\": {}}, \"kernel_regularizer\": null, \"bias_regularizer\": null, \"activity_regularizer\": null, \"kernel_constraint\": null, \"bias_constraint\": null}, \"name\": \"conv2d_3\", \"inbound_nodes\": [[[\"add_10\", 0, 0, {}]]]}, {\"class_name\": \"MaxPooling2D\", \"config\": {\"name\": \"block13_pool\", \"trainable\": false, \"dtype\": \"float32\", \"pool_size\": [3, 3], \"padding\": \"same\", \"strides\": [2, 2], \"data_format\": \"channels_last\"}, \"name\": \"block13_pool\", \"inbound_nodes\": [[[\"block13_sepconv2_bn\", 0, 0, {}]]]}, {\"class_name\": \"BatchNormalization\", \"config\": {\"name\": \"batch_normalization_3\", \"trainable\": false, \"dtype\": \"float32\", \"axis\": [3], \"momentum\": 0.99, \"epsilon\": 0.001, \"center\": true, \"scale\": true, \"beta_initializer\": {\"class_name\": \"Zeros\", \"config\": {}}, \"gamma_initializer\": {\"class_name\": \"Ones\", \"config\": {}}, \"moving_mean_initializer\": {\"class_name\": \"Zeros\", \"config\": {}}, \"moving_variance_initializer\": {\"class_name\": \"Ones\", \"config\": {}}, \"beta_regularizer\": null, \"gamma_regularizer\": null, \"beta_constraint\": null, \"gamma_constraint\": null}, \"name\": \"batch_normalization_3\", \"inbound_nodes\": [[[\"conv2d_3\", 0, 0, {}]]]}, {\"class_name\": \"Add\", \"config\": {\"name\": \"add_11\", \"trainable\": false, \"dtype\": \"float32\"}, \"name\": \"add_11\", \"inbound_nodes\": [[[\"block13_pool\", 0, 0, {}], [\"batch_normalization_3\", 0, 0, {}]]]}, {\"class_name\": \"SeparableConv2D\", \"config\": {\"name\": \"block14_sepconv1\", \"trainable\": false, \"dtype\": \"float32\", \"filters\": 1536, \"kernel_size\": [3, 3], \"strides\": [1, 1], \"padding\": \"same\", \"data_format\": \"channels_last\", \"dilation_rate\": [1, 1], \"groups\": 1, \"activation\": \"linear\", \"use_bias\": false, \"kernel_initializer\": {\"class_name\": \"GlorotUniform\", \"config\": {\"seed\": null}}, \"bias_initializer\": {\"class_name\": \"Zeros\", \"config\": {}, \"shared_object_id\": 421}, \"kernel_regularizer\": null, \"bias_regularizer\": null, \"activity_regularizer\": null, \"kernel_constraint\": null, \"bias_constraint\": null, \"depth_multiplier\": 1, \"depthwise_initializer\": {\"class_name\": \"GlorotUniform\", \"config\": {\"seed\": null}}, \"pointwise_initializer\": {\"class_name\": \"GlorotUniform\", \"config\": {\"seed\": null}}, \"depthwise_regularizer\": null, \"pointwise_regularizer\": null, \"depthwise_constraint\": null, \"pointwise_constraint\": null}, \"name\": \"block14_sepconv1\", \"inbound_nodes\": [[[\"add_11\", 0, 0, {}]]]}, {\"class_name\": \"BatchNormalization\", \"config\": {\"name\": \"block14_sepconv1_bn\", \"trainable\": false, \"dtype\": \"float32\", \"axis\": [3], \"momentum\": 0.99, \"epsilon\": 0.001, \"center\": true, \"scale\": true, \"beta_initializer\": {\"class_name\": \"Zeros\", \"config\": {}}, \"gamma_initializer\": {\"class_name\": \"Ones\", \"config\": {}}, \"moving_mean_initializer\": {\"class_name\": \"Zeros\", \"config\": {}}, \"moving_variance_initializer\": {\"class_name\": \"Ones\", \"config\": {}}, \"beta_regularizer\": null, \"gamma_regularizer\": null, \"beta_constraint\": null, \"gamma_constraint\": null}, \"name\": \"block14_sepconv1_bn\", \"inbound_nodes\": [[[\"block14_sepconv1\", 0, 0, {}]]]}, {\"class_name\": \"Activation\", \"config\": {\"name\": \"block14_sepconv1_act\", \"trainable\": false, \"dtype\": \"float32\", \"activation\": \"relu\"}, \"name\": \"block14_sepconv1_act\", \"inbound_nodes\": [[[\"block14_sepconv1_bn\", 0, 0, {}]]]}, {\"class_name\": \"SeparableConv2D\", \"config\": {\"name\": \"block14_sepconv2\", \"trainable\": false, \"dtype\": \"float32\", \"filters\": 2048, \"kernel_size\": [3, 3], \"strides\": [1, 1], \"padding\": \"same\", \"data_format\": \"channels_last\", \"dilation_rate\": [1, 1], \"groups\": 1, \"activation\": \"linear\", \"use_bias\": false, \"kernel_initializer\": {\"class_name\": \"GlorotUniform\", \"config\": {\"seed\": null}}, \"bias_initializer\": {\"class_name\": \"Zeros\", \"config\": {}, \"shared_object_id\": 432}, \"kernel_regularizer\": null, \"bias_regularizer\": null, \"activity_regularizer\": null, \"kernel_constraint\": null, \"bias_constraint\": null, \"depth_multiplier\": 1, \"depthwise_initializer\": {\"class_name\": \"GlorotUniform\", \"config\": {\"seed\": null}}, \"pointwise_initializer\": {\"class_name\": \"GlorotUniform\", \"config\": {\"seed\": null}}, \"depthwise_regularizer\": null, \"pointwise_regularizer\": null, \"depthwise_constraint\": null, \"pointwise_constraint\": null}, \"name\": \"block14_sepconv2\", \"inbound_nodes\": [[[\"block14_sepconv1_act\", 0, 0, {}]]]}, {\"class_name\": \"BatchNormalization\", \"config\": {\"name\": \"block14_sepconv2_bn\", \"trainable\": false, \"dtype\": \"float32\", \"axis\": [3], \"momentum\": 0.99, \"epsilon\": 0.001, \"center\": true, \"scale\": true, \"beta_initializer\": {\"class_name\": \"Zeros\", \"config\": {}}, \"gamma_initializer\": {\"class_name\": \"Ones\", \"config\": {}}, \"moving_mean_initializer\": {\"class_name\": \"Zeros\", \"config\": {}}, \"moving_variance_initializer\": {\"class_name\": \"Ones\", \"config\": {}}, \"beta_regularizer\": null, \"gamma_regularizer\": null, \"beta_constraint\": null, \"gamma_constraint\": null}, \"name\": \"block14_sepconv2_bn\", \"inbound_nodes\": [[[\"block14_sepconv2\", 0, 0, {}]]]}, {\"class_name\": \"Activation\", \"config\": {\"name\": \"block14_sepconv2_act\", \"trainable\": false, \"dtype\": \"float32\", \"activation\": \"relu\"}, \"name\": \"block14_sepconv2_act\", \"inbound_nodes\": [[[\"block14_sepconv2_bn\", 0, 0, {}]]]}], \"input_layers\": [[\"input_1\", 0, 0]], \"output_layers\": [[\"block14_sepconv2_act\", 0, 0]]}, \"name\": \"xception\", \"inbound_nodes\": [[[\"input_2\", 0, 0, {\"training\": false}]]]}, {\"class_name\": \"GlobalAveragePooling2D\", \"config\": {\"name\": \"global_average_pooling2d\", \"trainable\": true, \"dtype\": \"float32\", \"data_format\": \"channels_last\", \"keepdims\": false}, \"name\": \"global_average_pooling2d\", \"inbound_nodes\": [[[\"xception\", 1, 0, {}]]]}, {\"class_name\": \"Dense\", \"config\": {\"name\": \"dense\", \"trainable\": true, \"dtype\": \"float32\", \"units\": 7, \"activation\": \"linear\", \"use_bias\": true, \"kernel_initializer\": {\"class_name\": \"GlorotUniform\", \"config\": {\"seed\": null}}, \"bias_initializer\": {\"class_name\": \"Zeros\", \"config\": {}}, \"kernel_regularizer\": null, \"bias_regularizer\": null, \"activity_regularizer\": null, \"kernel_constraint\": null, \"bias_constraint\": null}, \"name\": \"dense\", \"inbound_nodes\": [[[\"global_average_pooling2d\", 0, 0, {}]]]}], \"input_layers\": [[\"input_2\", 0, 0]], \"output_layers\": [[\"dense\", 0, 0]]}'"
            ],
            "application/vnd.google.colaboratory.intrinsic+json": {
              "type": "string"
            }
          },
          "metadata": {},
          "execution_count": 49
        }
      ]
    },
    {
      "cell_type": "code",
      "source": [
        "! pip install gradio\n",
        "import gradio as gr"
      ],
      "metadata": {
        "id": "RRSMoFodI6Ds"
      },
      "execution_count": null,
      "outputs": []
    },
    {
      "cell_type": "code",
      "source": [
        "def classify_image(inp):\n",
        "  img = load_img(inp, target_size=(150, 150))\n",
        "  x = np.array(img)\n",
        "  X = np.array([x])\n",
        "  X = preprocess_input(X)\n",
        "  pred = model.predict(X).flatten()\n",
        "  # return {classes[i]: float(pred[i]) for i in range(7)}\n",
        "  # return {'cat': 0.3, 'dog': 0.7}\n",
        "\n",
        "\"\"\"gr.Interface(\n",
        "    fn=classify_image, \n",
        "    inputs=gr.Image(),\n",
        "    outputs=gr.outputs.Label(num_top_classes=4),\n",
        "    examples=[\"320px-Melanoma.jpg\"],\n",
        ").launch()\"\"\"\n",
        "\n",
        "def image_classifier(inp):\n",
        "    x = np.array(img)\n",
        "    X = np.array([x])\n",
        "    X = preprocess_input(X)\n",
        "    pred = model.predict(X).flatten()\n",
        "    # return {classes[i]: float([0.3,0.4,0.6,0.2,0.9,0.1,0.5][i]) for i in range(7)}\n",
        "    return {classes[i]: float(pred[i]) for i in range(7)}\n",
        "\n",
        "demo = gr.Interface(fn=image_classifier, inputs=\"image\", outputs=\"label\", examples=[\"320px-Melanoma.jpg\"],)\n",
        "demo.launch()\n",
        "\n",
        "# classify_image(\"320px-Melanoma.jpg\")"
      ],
      "metadata": {
        "colab": {
          "base_uri": "https://localhost:8080/",
          "height": 621
        },
        "id": "oaQ05gztLmL-",
        "outputId": "1ad55944-75e7-4435-bac6-80f01f3ebda8"
      },
      "execution_count": 104,
      "outputs": [
        {
          "output_type": "stream",
          "name": "stdout",
          "text": [
            "Colab notebook detected. To show errors in colab notebook, set `debug=True` in `launch()`\n",
            "Note: opening Chrome Inspector may crash demo inside Colab notebooks.\n",
            "\n",
            "To create a public link, set `share=True` in `launch()`.\n"
          ]
        },
        {
          "output_type": "display_data",
          "data": {
            "text/plain": [
              "<IPython.core.display.Javascript object>"
            ],
            "application/javascript": [
              "(async (port, path, width, height, cache, element) => {\n",
              "                        if (!google.colab.kernel.accessAllowed && !cache) {\n",
              "                            return;\n",
              "                        }\n",
              "                        element.appendChild(document.createTextNode(''));\n",
              "                        const url = await google.colab.kernel.proxyPort(port, {cache});\n",
              "\n",
              "                        const external_link = document.createElement('div');\n",
              "                        external_link.innerHTML = `\n",
              "                            <div style=\"font-family: monospace; margin-bottom: 0.5rem\">\n",
              "                                Running on <a href=${new URL(path, url).toString()} target=\"_blank\">\n",
              "                                    https://localhost:${port}${path}\n",
              "                                </a>\n",
              "                            </div>\n",
              "                        `;\n",
              "                        element.appendChild(external_link);\n",
              "\n",
              "                        const iframe = document.createElement('iframe');\n",
              "                        iframe.src = new URL(path, url).toString();\n",
              "                        iframe.height = height;\n",
              "                        iframe.allow = \"autoplay; camera; microphone; clipboard-read; clipboard-write;\"\n",
              "                        iframe.width = width;\n",
              "                        iframe.style.border = 0;\n",
              "                        element.appendChild(iframe);\n",
              "                    })(7887, \"/\", \"100%\", 500, false, window.element)"
            ]
          },
          "metadata": {}
        },
        {
          "output_type": "execute_result",
          "data": {
            "text/plain": []
          },
          "metadata": {},
          "execution_count": 104
        }
      ]
    }
  ]
}